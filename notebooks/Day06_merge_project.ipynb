{
 "cells": [
  {
   "cell_type": "markdown",
   "id": "1949a695",
   "metadata": {},
   "source": [
    "# Day 6：合并、分组与小型流程项目（串联前五天）\n",
    "\n",
    "> 今日目标：掌握表合并 (merge / concat) 与分组聚合 (groupby + agg)，完成一个迷你分析闭环：提出问题 → 处理 → 结果图表 → 简短结论。\n",
    "\n",
    "学习路径：\n",
    "1. 准备数据集介绍\n",
    "2. 合并 merge 基本用法 (one-to-one / many-to-one)\n",
    "3. concat 纵向拼接\n",
    "4. groupby 分组聚合与多指标 agg\n",
    "5. 新增衍生指标 (人均/差值)\n",
    "6. Mini Project 任务说明\n",
    "7. 项目示例骨架 (可直接改)\n",
    "8. 小结\n",
    "9. 课后作业要求"
   ]
  },
  {
   "cell_type": "markdown",
   "id": "a4e16615",
   "metadata": {},
   "source": [
    "## 1. 准备数据集\n",
    "我们将使用：\n",
    "- `air_quality_timeseries.csv` (Day4/5 见过)\n",
    "- `city_info.csv` ：包含城市人口 (百万) / 行政区域 (region) / 面积 (km²)\n",
    "目标：合并后计算 *人均 PM2.5* / 区域对比 / 排名。"
   ]
  },
  {
   "cell_type": "code",
   "execution_count": null,
   "id": "b5869c7c",
   "metadata": {},
   "outputs": [],
   "source": [
    "import pandas as pd\n",
    "import matplotlib.pyplot as plt\n",
    "\n",
    "air = pd.read_csv('../data/air_quality_timeseries.csv', parse_dates=['date'])\n",
    "info = pd.read_csv('../data/city_info.csv')\n",
    "air.head()"
   ]
  },
  {
   "cell_type": "code",
   "execution_count": null,
   "id": "d46d50b3",
   "metadata": {},
   "outputs": [],
   "source": [
    "info.head()"
   ]
  },
  {
   "cell_type": "markdown",
   "id": "02663185",
   "metadata": {},
   "source": [
    "## 2. merge 合并基础\n",
    "常见：`pd.merge(left, right, on='key', how='inner')`。\n",
    "how 取值：inner / left / right / outer。今天主要用 inner 或 left。\n",
    "键：城市 city。"
   ]
  },
  {
   "cell_type": "code",
   "execution_count": null,
   "id": "96004e42",
   "metadata": {},
   "outputs": [],
   "source": [
    "merged = pd.merge(air, info, on='city', how='left')\n",
    "merged.head()"
   ]
  },
  {
   "cell_type": "code",
   "execution_count": null,
   "id": "f9d26ceb",
   "metadata": {},
   "outputs": [],
   "source": [
    "print('合并后形状:', merged.shape)\n",
    "print('列名:', merged.columns.tolist())\n",
    "print('是否存在缺失:')\n",
    "print(merged.isnull().sum())"
   ]
  },
  {
   "cell_type": "markdown",
   "id": "177f2a03",
   "metadata": {},
   "source": [
    "### 小练习 1\n",
    "1. 如果想只保留在 city_info 中出现的城市，应使用哪种 how？\n",
    "2. 如果想保留全部城市 + 标记未匹配项？"
   ]
  },
  {
   "cell_type": "markdown",
   "id": "9efedc91",
   "metadata": {},
   "source": [
    "## 3. concat 纵向拼接\n",
    "场景：多文件同结构追加。例如将前 3 天与后 2 天拆分再合并。"
   ]
  },
  {
   "cell_type": "code",
   "execution_count": null,
   "id": "1fdadd75",
   "metadata": {},
   "outputs": [],
   "source": [
    "part1 = air[air['date'] <= air['date'].sort_values().unique()[2]]\n",
    "part2 = air[air['date'] > air['date'].sort_values().unique()[2]]\n",
    "recombined = pd.concat([part1, part2], axis=0)\n",
    "print('是否一样:', recombined.shape == air.shape)\n",
    "recombined.head()"
   ]
  },
  {
   "cell_type": "markdown",
   "id": "49c8d8fa",
   "metadata": {},
   "source": [
    "### 小练习 2\n",
    "1. 模拟一个缺少某列的 DataFrame 再 concat，观察列对齐。\n",
    "2. axis=1 会发生什么？"
   ]
  },
  {
   "cell_type": "markdown",
   "id": "a296f7c1",
   "metadata": {},
   "source": [
    "## 4. groupby 分组聚合与多指标 agg\n",
    "示例：按 city 统计 PM2.5 平均值 & 最大值；按 region 统计 PM2.5/PM10 平均。"
   ]
  },
  {
   "cell_type": "code",
   "execution_count": null,
   "id": "ef3c1280",
   "metadata": {},
   "outputs": [],
   "source": [
    "# 每城市 PM2.5 平均与最大\n",
    "city_pm25_stats = merged.groupby('city')['PM25'].agg(['mean','max','min']).sort_values('mean', ascending=False)\n",
    "city_pm25_stats.head()"
   ]
  },
  {
   "cell_type": "code",
   "execution_count": null,
   "id": "9f8cdb5a",
   "metadata": {},
   "outputs": [],
   "source": [
    "# 按区域 region 计算 PM2.5 & PM10 平均\n",
    "region_stats = merged.groupby('region')[['PM25','PM10']].mean().sort_values('PM25', ascending=False)\n",
    "region_stats"
   ]
  },
  {
   "cell_type": "markdown",
   "id": "c95cc47c",
   "metadata": {},
   "source": [
    "### 多列不同聚合写法\n",
    "`agg({'PM25':['mean','max'], 'PM10':'mean'})`"
   ]
  },
  {
   "cell_type": "code",
   "execution_count": null,
   "id": "3fa89e32",
   "metadata": {},
   "outputs": [],
   "source": [
    "multi_agg = merged.groupby('region').agg({'PM25':['mean','max'], 'PM10':'mean'})\n",
    "multi_agg"
   ]
  },
  {
   "cell_type": "markdown",
   "id": "b306fdc5",
   "metadata": {},
   "source": [
    "### 小练习 3\n",
    "1. 计算各 city 的 NO2 平均与 SO2 平均。\n",
    "2. 找出平均 PM25 最低的 3 个城市。"
   ]
  },
  {
   "cell_type": "markdown",
   "id": "1a5035fc",
   "metadata": {},
   "source": [
    "## 5. 新增衍生指标 (人均 & 比值)\n",
    "示例：人均 PM2.5 = PM25 / population_million (注意只是示例，并非真实科学算法)。\n",
    "还可构造：PM10 与 PM25 之差 diff = PM10 - PM25。"
   ]
  },
  {
   "cell_type": "code",
   "execution_count": null,
   "id": "7ae91ac0",
   "metadata": {},
   "outputs": [],
   "source": [
    "merged['PM25_per_million'] = merged['PM25'] / merged['population_million']\n",
    "merged['PM_diff'] = merged['PM10'] - merged['PM25']\n",
    "merged[['date','city','PM25','population_million','PM25_per_million','PM_diff']].head()"
   ]
  },
  {
   "cell_type": "code",
   "execution_count": null,
   "id": "97db18c8",
   "metadata": {},
   "outputs": [],
   "source": [
    "# 区域层面的人均 PM2.5 平均 (再聚合)\n",
    "region_per_capita = merged.groupby('region')['PM25_per_million'].mean().sort_values(ascending=False)\n",
    "region_per_capita"
   ]
  },
  {
   "cell_type": "markdown",
   "id": "9c777761",
   "metadata": {},
   "source": [
    "### 小练习 4\n",
    "1. 新增列 PM_ratio = PM10 / PM25。\n",
    "2. 计算各区域 PM_ratio 平均，排序。"
   ]
  },
  {
   "cell_type": "markdown",
   "id": "b7affef1",
   "metadata": {},
   "source": [
    "## 6. Mini Project 任务说明\n",
    "30~45 分钟内完成：\n",
    "1. 选 2~3 个问题 (例：哪个区域人均 PM2.5 指标最高？城市 PM10-PM25 差值分布怎样？)\n",
    "2. 数据流程：读取 → 合并 → 衍生列 → 分组统计/排序 → 1 张图 (柱状/折线/散点选其一)\n",
    "3. 输出：\n",
    "   - 关键表 1~2 个 (head 或整表简洁显示)\n",
    "   - 图 1 张\n",
    "   - 结论 80~120 字（含客观描述 + 解释 + 局限）\n",
    "4. 伦理：注明数据来源 (课程提供示例)"
   ]
  },
  {
   "cell_type": "markdown",
   "id": "6021162a",
   "metadata": {},
   "source": [
    "## 7. 项目示例骨架 (可直接复制修改)\n",
    "下面示例：问题：哪个区域的平均 PM25 与人均 PM25 指标都偏高？"
   ]
  },
  {
   "cell_type": "code",
   "execution_count": null,
   "id": "271df4c3",
   "metadata": {},
   "outputs": [],
   "source": [
    "# (1) 基础汇总\n",
    "region_summary = merged.groupby('region').agg({\n",
    "    'PM25':'mean',\n",
    "    'PM25_per_million':'mean',\n",
    "    'PM_diff':'mean'\n",
    "}).sort_values('PM25', ascending=False)\n",
    "region_summary"
   ]
  },
  {
   "cell_type": "code",
   "execution_count": null,
   "id": "1a094c30",
   "metadata": {},
   "outputs": [],
   "source": [
    "# (2) 可视化：区域 PM25 & 人均 PM25 对比 (双柱简单示意)\n",
    "plt.figure(figsize=(6,4))\n",
    "x = region_summary.index\n",
    "plt.bar(x, region_summary['PM25'], width=0.4, label='PM25 平均')\n",
    "plt.bar(x, region_summary['PM25_per_million']*100, width=0.4, alpha=0.7, label='人均 PM25 (×100示意)')\n",
    "plt.title('区域 PM25 与人均指标对比 (示意)')\n",
    "plt.ylabel('值 (PM25: μg/m³)')\n",
    "plt.xticks(rotation=20)\n",
    "plt.legend()\n",
    "plt.tight_layout()\n",
    "plt.show()"
   ]
  },
  {
   "cell_type": "markdown",
   "id": "1c2d97d1",
   "metadata": {},
   "source": [
    "> 说明：人均指标乘以 100 只是为了放在同一尺度上做演示，真实比较应规范化或用双轴 (本课程暂不展开)。"
   ]
  },
  {
   "cell_type": "markdown",
   "id": "6f34f854",
   "metadata": {},
   "source": [
    "### 示例结论草稿 (请自行再加工)\n",
    "华南与西南区域 PM25 平均值位于前列，同时人均 PM25 示意指标（缩放后）也较高，说明这些区域内人口集中城市的空气质量治理仍需关注。需要注意样本仅 5 天，且指标简化，不代表长期趋势。"
   ]
  },
  {
   "cell_type": "markdown",
   "id": "85f6b4f9",
   "metadata": {},
   "source": [
    "### 小练习 5\n",
    "1. 选取 PM_diff 最大的前 5 个城市，看看是否集中在某区域。\n",
    "2. 重新绘制一张图：只展示 top5 城市的 PM25 平均值。\n",
    "3. 写 2 句说明该图表达了什么。"
   ]
  },
  {
   "cell_type": "markdown",
   "id": "ca2c7877",
   "metadata": {},
   "source": [
    "## 8. 小结\n",
    "今日串联：\n",
    "1. merge：按 key（city）横向引入维度信息；how 影响保留范围（inner/left 等）。\n",
    "2. concat：纵向追加同结构数据，注意列自动对齐与缺失填补。\n",
    "3. groupby + agg：支持多指标统计，形成结构化摘要；链式：排序→筛选→可视化。\n",
    "4. 衍生指标：基于领域/问题设计（人均、差值、比率）→ 先说明计算假设。\n",
    "5. Mini Project：强调“问题驱动”而非“函数堆砌”。\n",
    "\n",
    "实务建议：\n",
    "- 每做一次合并后立即 shape / isnull().sum() 自检。\n",
    "- 聚合输出命名清晰（mean / max），必要时 reset_index 方便后续处理。\n",
    "- 指标缩放或示意需注明倍数，保持透明与可复现。\n",
    "\n",
    "衔接：明天的入门模型会利用今天的“整洁 + 衍生”思路构造特征。"
   ]
  },
  {
   "cell_type": "code",
   "execution_count": null,
   "id": "5da8fa48",
   "metadata": {},
   "outputs": [],
   "source": [
    "# 进阶合并与分组示例\n",
    "import pandas as pd\n",
    "air = pd.read_csv('../data/air_quality_timeseries.csv', parse_dates=['date'])\n",
    "info = pd.read_csv('../data/city_info.csv')\n",
    "\n",
    "# 1. 合并并带来源指示\n",
    "m = pd.merge(air, info, on='city', how='left', indicator=True)\n",
    "print(m['_merge'].value_counts())\n",
    "\n",
    "# 2. 多级 agg 扁平化\n",
    "agg_df = m.groupby('region').agg({'PM25':['mean','max'], 'PM10':'mean'})\n",
    "agg_df.columns = ['_'.join(col) for col in agg_df.columns]\n",
    "print(agg_df.head())\n",
    "\n",
    "# 3. 分组排名\n",
    "m['PM25_rank_in_city'] = m.groupby('city')['PM25'].rank(ascending=False, method='dense')\n",
    "print(m[['city','date','PM25','PM25_rank_in_city']].head())\n",
    "\n",
    "# 4. 透视表雏形\n",
    "pivot = m.pivot_table(values='PM25', index='region', columns='date', aggfunc='mean')\n",
    "print(pivot.head())\n",
    "\n",
    "# 5. 分组过滤：只保留记录数>=5 的城市\n",
    "filtered = m.groupby('city').filter(lambda d: len(d) >= 5)\n",
    "print('过滤后城市数:', filtered['city'].nunique())"
   ]
  },
  {
   "cell_type": "markdown",
   "id": "37f38ca8",
   "metadata": {},
   "source": [
    "### 合并 / 分组进阶技巧\n",
    "1. 验证连接是否丢数据：合并前后行数 + 是否出现空值。\n",
    "2. 指定左右键不同名：pd.merge(a,b,left_on='city', right_on='city_name')。\n",
    "3. 指定多键：on=['date','city']，确保业务唯一。\n",
    "4. 指标扁平化：multi_agg.columns = ['_'.join(col)] 去除多级列。\n",
    "5. 分组过滤：groupby('city').filter(lambda d: len(d)>3)。\n",
    "6. 分组排名：merged['pm25_rank_city'] = merged.groupby('city')['PM25'].rank(ascending=False)。\n",
    "7. 高效统计唯一个数：nunique(dropna=False)。\n",
    "8. 交叉表/透视需求起点：merged.pivot_table(values='PM25', index='region', columns='date', aggfunc='mean') (了解)。\n",
    "9. 丢失键分析：使用 indicator=True 查看合并来源。\n",
    "10. 内存友好：只选用必要列再合并，减少宽表。"
   ]
  },
  {
   "cell_type": "markdown",
   "id": "7610bfd6",
   "metadata": {},
   "source": [
    "## 9. 课后作业要求\n",
    "提交 *mini_project_day6.ipynb*：\n",
    "1. 标题：你的项目主题\n",
    "2. 至少 2 个明确分析问题 (问题句式)\n",
    "3. 数据步骤：读取→合并→新增列→分组→图表 (每步有 Markdown 注释)\n",
    "4. 结果：1~2 张图 + 关键表\n",
    "5. 结论：100~150 字（含发现 + 局限 + 后续可以加的数据）\n",
    "6. 伦理与来源：写出数据来源与是否做过简化/假设\n",
    "(可选) 7. 将其中一段重复统计封装成函数 (如：传入 region 返回其 PM25 均值)。"
   ]
  },
  {
   "cell_type": "markdown",
   "id": "49f9d899",
   "metadata": {},
   "source": [
    "---\n",
    "📌 提示：明天 Day 7 只做最小模型体验，保持 Notebook 干净结构利于后续复用。"
   ]
  }
 ],
 "metadata": {
  "language_info": {
   "name": "python"
  }
 },
 "nbformat": 4,
 "nbformat_minor": 5
}
