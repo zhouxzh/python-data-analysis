{
 "cells": [
  {
   "cell_type": "markdown",
   "id": "1949a695",
   "metadata": {},
   "source": [
    "# Day 6：合并、分组与小型流程项目（串联前五天）\n",
    "\n",
    "> 今日目标：掌握表合并 (merge / concat) 与分组聚合 (groupby + agg)，完成一个迷你分析闭环：提出问题 → 处理 → 结果图表 → 简短结论。\n",
    "\n",
    "学习路径：\n",
    "1. 准备数据集介绍\n",
    "2. 合并 merge 基本用法 (one-to-one / many-to-one)\n",
    "3. concat 纵向拼接\n",
    "4. groupby 分组聚合与多指标 agg\n",
    "5. 新增衍生指标 (人均/差值)\n",
    "6. Mini Project 任务说明\n",
    "7. 项目示例骨架 (可直接改)\n",
    "8. 小结\n",
    "9. 课后作业要求"
   ]
  },
  {
   "cell_type": "markdown",
   "id": "a4e16615",
   "metadata": {},
   "source": [
    "## 1. 准备数据集\n",
    "我们将使用：\n",
    "- `air_quality_timeseries.csv` (Day4/5 见过)\n",
    "- `city_info.csv` ：包含城市人口 (百万) / 行政区域 (region) / 面积 (km²)\n",
    "目标：合并后计算 *人均 PM2.5* / 区域对比 / 排名。"
   ]
  },
  {
   "cell_type": "code",
   "execution_count": 1,
   "id": "b5869c7c",
   "metadata": {},
   "outputs": [
    {
     "data": {
      "application/vnd.microsoft.datawrangler.viewer.v0+json": {
       "columns": [
        {
         "name": "index",
         "rawType": "int64",
         "type": "integer"
        },
        {
         "name": "date",
         "rawType": "datetime64[ns]",
         "type": "datetime"
        },
        {
         "name": "city",
         "rawType": "object",
         "type": "string"
        },
        {
         "name": "province",
         "rawType": "object",
         "type": "string"
        },
        {
         "name": "PM25",
         "rawType": "int64",
         "type": "integer"
        },
        {
         "name": "PM10",
         "rawType": "int64",
         "type": "integer"
        },
        {
         "name": "NO2",
         "rawType": "int64",
         "type": "integer"
        },
        {
         "name": "SO2",
         "rawType": "int64",
         "type": "integer"
        }
       ],
       "ref": "be801a1a-2c74-4a70-9b1a-78e691361d46",
       "rows": [
        [
         "0",
         "2025-09-01 00:00:00",
         "广州",
         "广东",
         "42",
         "55",
         "19",
         "7"
        ],
        [
         "1",
         "2025-09-02 00:00:00",
         "广州",
         "广东",
         "41",
         "54",
         "18",
         "7"
        ],
        [
         "2",
         "2025-09-03 00:00:00",
         "广州",
         "广东",
         "39",
         "50",
         "17",
         "6"
        ],
        [
         "3",
         "2025-09-04 00:00:00",
         "广州",
         "广东",
         "45",
         "57",
         "20",
         "7"
        ],
        [
         "4",
         "2025-09-05 00:00:00",
         "广州",
         "广东",
         "44",
         "56",
         "19",
         "7"
        ]
       ],
       "shape": {
        "columns": 7,
        "rows": 5
       }
      },
      "text/html": [
       "<div>\n",
       "<style scoped>\n",
       "    .dataframe tbody tr th:only-of-type {\n",
       "        vertical-align: middle;\n",
       "    }\n",
       "\n",
       "    .dataframe tbody tr th {\n",
       "        vertical-align: top;\n",
       "    }\n",
       "\n",
       "    .dataframe thead th {\n",
       "        text-align: right;\n",
       "    }\n",
       "</style>\n",
       "<table border=\"1\" class=\"dataframe\">\n",
       "  <thead>\n",
       "    <tr style=\"text-align: right;\">\n",
       "      <th></th>\n",
       "      <th>date</th>\n",
       "      <th>city</th>\n",
       "      <th>province</th>\n",
       "      <th>PM25</th>\n",
       "      <th>PM10</th>\n",
       "      <th>NO2</th>\n",
       "      <th>SO2</th>\n",
       "    </tr>\n",
       "  </thead>\n",
       "  <tbody>\n",
       "    <tr>\n",
       "      <th>0</th>\n",
       "      <td>2025-09-01</td>\n",
       "      <td>广州</td>\n",
       "      <td>广东</td>\n",
       "      <td>42</td>\n",
       "      <td>55</td>\n",
       "      <td>19</td>\n",
       "      <td>7</td>\n",
       "    </tr>\n",
       "    <tr>\n",
       "      <th>1</th>\n",
       "      <td>2025-09-02</td>\n",
       "      <td>广州</td>\n",
       "      <td>广东</td>\n",
       "      <td>41</td>\n",
       "      <td>54</td>\n",
       "      <td>18</td>\n",
       "      <td>7</td>\n",
       "    </tr>\n",
       "    <tr>\n",
       "      <th>2</th>\n",
       "      <td>2025-09-03</td>\n",
       "      <td>广州</td>\n",
       "      <td>广东</td>\n",
       "      <td>39</td>\n",
       "      <td>50</td>\n",
       "      <td>17</td>\n",
       "      <td>6</td>\n",
       "    </tr>\n",
       "    <tr>\n",
       "      <th>3</th>\n",
       "      <td>2025-09-04</td>\n",
       "      <td>广州</td>\n",
       "      <td>广东</td>\n",
       "      <td>45</td>\n",
       "      <td>57</td>\n",
       "      <td>20</td>\n",
       "      <td>7</td>\n",
       "    </tr>\n",
       "    <tr>\n",
       "      <th>4</th>\n",
       "      <td>2025-09-05</td>\n",
       "      <td>广州</td>\n",
       "      <td>广东</td>\n",
       "      <td>44</td>\n",
       "      <td>56</td>\n",
       "      <td>19</td>\n",
       "      <td>7</td>\n",
       "    </tr>\n",
       "  </tbody>\n",
       "</table>\n",
       "</div>"
      ],
      "text/plain": [
       "        date city province  PM25  PM10  NO2  SO2\n",
       "0 2025-09-01   广州       广东    42    55   19    7\n",
       "1 2025-09-02   广州       广东    41    54   18    7\n",
       "2 2025-09-03   广州       广东    39    50   17    6\n",
       "3 2025-09-04   广州       广东    45    57   20    7\n",
       "4 2025-09-05   广州       广东    44    56   19    7"
      ]
     },
     "execution_count": 1,
     "metadata": {},
     "output_type": "execute_result"
    }
   ],
   "source": [
    "import pandas as pd\n",
    "import matplotlib.pyplot as plt\n",
    "\n",
    "air = pd.read_csv('../data/air_quality_timeseries.csv', parse_dates=['date'])\n",
    "info = pd.read_csv('../data/city_info.csv')\n",
    "air.head()"
   ]
  },
  {
   "cell_type": "code",
   "execution_count": 2,
   "id": "d46d50b3",
   "metadata": {},
   "outputs": [
    {
     "data": {
      "application/vnd.microsoft.datawrangler.viewer.v0+json": {
       "columns": [
        {
         "name": "index",
         "rawType": "int64",
         "type": "integer"
        },
        {
         "name": "city",
         "rawType": "object",
         "type": "string"
        },
        {
         "name": "province",
         "rawType": "object",
         "type": "string"
        },
        {
         "name": "region",
         "rawType": "object",
         "type": "string"
        },
        {
         "name": "population_million",
         "rawType": "float64",
         "type": "float"
        },
        {
         "name": "area_km2",
         "rawType": "int64",
         "type": "integer"
        }
       ],
       "ref": "6a567d82-29b7-48c1-a646-a52ee6042b23",
       "rows": [
        [
         "0",
         "广州",
         "广东",
         "华南",
         "18.7",
         "7434"
        ],
        [
         "1",
         "深圳",
         "广东",
         "华南",
         "17.9",
         "1997"
        ],
        [
         "2",
         "佛山",
         "广东",
         "华南",
         "9.7",
         "3848"
        ],
        [
         "3",
         "北京",
         "北京",
         "华北",
         "21.9",
         "16411"
        ],
        [
         "4",
         "上海",
         "上海",
         "华东",
         "25.0",
         "6341"
        ]
       ],
       "shape": {
        "columns": 5,
        "rows": 5
       }
      },
      "text/html": [
       "<div>\n",
       "<style scoped>\n",
       "    .dataframe tbody tr th:only-of-type {\n",
       "        vertical-align: middle;\n",
       "    }\n",
       "\n",
       "    .dataframe tbody tr th {\n",
       "        vertical-align: top;\n",
       "    }\n",
       "\n",
       "    .dataframe thead th {\n",
       "        text-align: right;\n",
       "    }\n",
       "</style>\n",
       "<table border=\"1\" class=\"dataframe\">\n",
       "  <thead>\n",
       "    <tr style=\"text-align: right;\">\n",
       "      <th></th>\n",
       "      <th>city</th>\n",
       "      <th>province</th>\n",
       "      <th>region</th>\n",
       "      <th>population_million</th>\n",
       "      <th>area_km2</th>\n",
       "    </tr>\n",
       "  </thead>\n",
       "  <tbody>\n",
       "    <tr>\n",
       "      <th>0</th>\n",
       "      <td>广州</td>\n",
       "      <td>广东</td>\n",
       "      <td>华南</td>\n",
       "      <td>18.7</td>\n",
       "      <td>7434</td>\n",
       "    </tr>\n",
       "    <tr>\n",
       "      <th>1</th>\n",
       "      <td>深圳</td>\n",
       "      <td>广东</td>\n",
       "      <td>华南</td>\n",
       "      <td>17.9</td>\n",
       "      <td>1997</td>\n",
       "    </tr>\n",
       "    <tr>\n",
       "      <th>2</th>\n",
       "      <td>佛山</td>\n",
       "      <td>广东</td>\n",
       "      <td>华南</td>\n",
       "      <td>9.7</td>\n",
       "      <td>3848</td>\n",
       "    </tr>\n",
       "    <tr>\n",
       "      <th>3</th>\n",
       "      <td>北京</td>\n",
       "      <td>北京</td>\n",
       "      <td>华北</td>\n",
       "      <td>21.9</td>\n",
       "      <td>16411</td>\n",
       "    </tr>\n",
       "    <tr>\n",
       "      <th>4</th>\n",
       "      <td>上海</td>\n",
       "      <td>上海</td>\n",
       "      <td>华东</td>\n",
       "      <td>25.0</td>\n",
       "      <td>6341</td>\n",
       "    </tr>\n",
       "  </tbody>\n",
       "</table>\n",
       "</div>"
      ],
      "text/plain": [
       "  city province region  population_million  area_km2\n",
       "0   广州       广东     华南                18.7      7434\n",
       "1   深圳       广东     华南                17.9      1997\n",
       "2   佛山       广东     华南                 9.7      3848\n",
       "3   北京       北京     华北                21.9     16411\n",
       "4   上海       上海     华东                25.0      6341"
      ]
     },
     "execution_count": 2,
     "metadata": {},
     "output_type": "execute_result"
    }
   ],
   "source": [
    "info.head()"
   ]
  },
  {
   "cell_type": "markdown",
   "id": "02663185",
   "metadata": {},
   "source": [
    "## 2. merge 合并基础\n",
    "常见：`pd.merge(left, right, on='key', how='inner')`。\n",
    "how 取值：inner / left / right / outer。今天主要用 inner 或 left。\n",
    "键：城市 city。"
   ]
  },
  {
   "cell_type": "code",
   "execution_count": 3,
   "id": "96004e42",
   "metadata": {},
   "outputs": [
    {
     "data": {
      "application/vnd.microsoft.datawrangler.viewer.v0+json": {
       "columns": [
        {
         "name": "index",
         "rawType": "int64",
         "type": "integer"
        },
        {
         "name": "date",
         "rawType": "datetime64[ns]",
         "type": "datetime"
        },
        {
         "name": "city",
         "rawType": "object",
         "type": "string"
        },
        {
         "name": "province_x",
         "rawType": "object",
         "type": "string"
        },
        {
         "name": "PM25",
         "rawType": "int64",
         "type": "integer"
        },
        {
         "name": "PM10",
         "rawType": "int64",
         "type": "integer"
        },
        {
         "name": "NO2",
         "rawType": "int64",
         "type": "integer"
        },
        {
         "name": "SO2",
         "rawType": "int64",
         "type": "integer"
        },
        {
         "name": "province_y",
         "rawType": "object",
         "type": "string"
        },
        {
         "name": "region",
         "rawType": "object",
         "type": "string"
        },
        {
         "name": "population_million",
         "rawType": "float64",
         "type": "float"
        },
        {
         "name": "area_km2",
         "rawType": "int64",
         "type": "integer"
        }
       ],
       "ref": "a934b4fa-dbbd-4787-a278-1faae8900c88",
       "rows": [
        [
         "0",
         "2025-09-01 00:00:00",
         "广州",
         "广东",
         "42",
         "55",
         "19",
         "7",
         "广东",
         "华南",
         "18.7",
         "7434"
        ],
        [
         "1",
         "2025-09-02 00:00:00",
         "广州",
         "广东",
         "41",
         "54",
         "18",
         "7",
         "广东",
         "华南",
         "18.7",
         "7434"
        ],
        [
         "2",
         "2025-09-03 00:00:00",
         "广州",
         "广东",
         "39",
         "50",
         "17",
         "6",
         "广东",
         "华南",
         "18.7",
         "7434"
        ],
        [
         "3",
         "2025-09-04 00:00:00",
         "广州",
         "广东",
         "45",
         "57",
         "20",
         "7",
         "广东",
         "华南",
         "18.7",
         "7434"
        ],
        [
         "4",
         "2025-09-05 00:00:00",
         "广州",
         "广东",
         "44",
         "56",
         "19",
         "7",
         "广东",
         "华南",
         "18.7",
         "7434"
        ]
       ],
       "shape": {
        "columns": 11,
        "rows": 5
       }
      },
      "text/html": [
       "<div>\n",
       "<style scoped>\n",
       "    .dataframe tbody tr th:only-of-type {\n",
       "        vertical-align: middle;\n",
       "    }\n",
       "\n",
       "    .dataframe tbody tr th {\n",
       "        vertical-align: top;\n",
       "    }\n",
       "\n",
       "    .dataframe thead th {\n",
       "        text-align: right;\n",
       "    }\n",
       "</style>\n",
       "<table border=\"1\" class=\"dataframe\">\n",
       "  <thead>\n",
       "    <tr style=\"text-align: right;\">\n",
       "      <th></th>\n",
       "      <th>date</th>\n",
       "      <th>city</th>\n",
       "      <th>province_x</th>\n",
       "      <th>PM25</th>\n",
       "      <th>PM10</th>\n",
       "      <th>NO2</th>\n",
       "      <th>SO2</th>\n",
       "      <th>province_y</th>\n",
       "      <th>region</th>\n",
       "      <th>population_million</th>\n",
       "      <th>area_km2</th>\n",
       "    </tr>\n",
       "  </thead>\n",
       "  <tbody>\n",
       "    <tr>\n",
       "      <th>0</th>\n",
       "      <td>2025-09-01</td>\n",
       "      <td>广州</td>\n",
       "      <td>广东</td>\n",
       "      <td>42</td>\n",
       "      <td>55</td>\n",
       "      <td>19</td>\n",
       "      <td>7</td>\n",
       "      <td>广东</td>\n",
       "      <td>华南</td>\n",
       "      <td>18.7</td>\n",
       "      <td>7434</td>\n",
       "    </tr>\n",
       "    <tr>\n",
       "      <th>1</th>\n",
       "      <td>2025-09-02</td>\n",
       "      <td>广州</td>\n",
       "      <td>广东</td>\n",
       "      <td>41</td>\n",
       "      <td>54</td>\n",
       "      <td>18</td>\n",
       "      <td>7</td>\n",
       "      <td>广东</td>\n",
       "      <td>华南</td>\n",
       "      <td>18.7</td>\n",
       "      <td>7434</td>\n",
       "    </tr>\n",
       "    <tr>\n",
       "      <th>2</th>\n",
       "      <td>2025-09-03</td>\n",
       "      <td>广州</td>\n",
       "      <td>广东</td>\n",
       "      <td>39</td>\n",
       "      <td>50</td>\n",
       "      <td>17</td>\n",
       "      <td>6</td>\n",
       "      <td>广东</td>\n",
       "      <td>华南</td>\n",
       "      <td>18.7</td>\n",
       "      <td>7434</td>\n",
       "    </tr>\n",
       "    <tr>\n",
       "      <th>3</th>\n",
       "      <td>2025-09-04</td>\n",
       "      <td>广州</td>\n",
       "      <td>广东</td>\n",
       "      <td>45</td>\n",
       "      <td>57</td>\n",
       "      <td>20</td>\n",
       "      <td>7</td>\n",
       "      <td>广东</td>\n",
       "      <td>华南</td>\n",
       "      <td>18.7</td>\n",
       "      <td>7434</td>\n",
       "    </tr>\n",
       "    <tr>\n",
       "      <th>4</th>\n",
       "      <td>2025-09-05</td>\n",
       "      <td>广州</td>\n",
       "      <td>广东</td>\n",
       "      <td>44</td>\n",
       "      <td>56</td>\n",
       "      <td>19</td>\n",
       "      <td>7</td>\n",
       "      <td>广东</td>\n",
       "      <td>华南</td>\n",
       "      <td>18.7</td>\n",
       "      <td>7434</td>\n",
       "    </tr>\n",
       "  </tbody>\n",
       "</table>\n",
       "</div>"
      ],
      "text/plain": [
       "        date city province_x  PM25  PM10  NO2  SO2 province_y region  \\\n",
       "0 2025-09-01   广州         广东    42    55   19    7         广东     华南   \n",
       "1 2025-09-02   广州         广东    41    54   18    7         广东     华南   \n",
       "2 2025-09-03   广州         广东    39    50   17    6         广东     华南   \n",
       "3 2025-09-04   广州         广东    45    57   20    7         广东     华南   \n",
       "4 2025-09-05   广州         广东    44    56   19    7         广东     华南   \n",
       "\n",
       "   population_million  area_km2  \n",
       "0                18.7      7434  \n",
       "1                18.7      7434  \n",
       "2                18.7      7434  \n",
       "3                18.7      7434  \n",
       "4                18.7      7434  "
      ]
     },
     "execution_count": 3,
     "metadata": {},
     "output_type": "execute_result"
    }
   ],
   "source": [
    "merged = pd.merge(air, info, on='city', how='left')\n",
    "merged.head()"
   ]
  },
  {
   "cell_type": "code",
   "execution_count": 4,
   "id": "f9d26ceb",
   "metadata": {},
   "outputs": [
    {
     "name": "stdout",
     "output_type": "stream",
     "text": [
      "合并后形状: (30, 11)\n",
      "列名: ['date', 'city', 'province_x', 'PM25', 'PM10', 'NO2', 'SO2', 'province_y', 'region', 'population_million', 'area_km2']\n",
      "是否存在缺失:\n",
      "date                  0\n",
      "city                  0\n",
      "province_x            0\n",
      "PM25                  0\n",
      "PM10                  0\n",
      "NO2                   0\n",
      "SO2                   0\n",
      "province_y            0\n",
      "region                0\n",
      "population_million    0\n",
      "area_km2              0\n",
      "dtype: int64\n"
     ]
    }
   ],
   "source": [
    "print('合并后形状:', merged.shape)\n",
    "print('列名:', merged.columns.tolist())\n",
    "print('是否存在缺失:')\n",
    "print(merged.isnull().sum())"
   ]
  },
  {
   "cell_type": "markdown",
   "id": "177f2a03",
   "metadata": {},
   "source": [
    "### 小练习 1\n",
    "1. 如果想只保留在 city_info 中出现的城市，应使用哪种 how？\n",
    "2. 如果想保留全部城市 + 标记未匹配项？"
   ]
  },
  {
   "cell_type": "markdown",
   "id": "9efedc91",
   "metadata": {},
   "source": [
    "## 3. concat 纵向拼接\n",
    "场景：多文件同结构追加。例如将前 3 天与后 2 天拆分再合并。"
   ]
  },
  {
   "cell_type": "code",
   "execution_count": 5,
   "id": "1fdadd75",
   "metadata": {},
   "outputs": [
    {
     "name": "stdout",
     "output_type": "stream",
     "text": [
      "是否一样: True\n"
     ]
    },
    {
     "data": {
      "application/vnd.microsoft.datawrangler.viewer.v0+json": {
       "columns": [
        {
         "name": "index",
         "rawType": "int64",
         "type": "integer"
        },
        {
         "name": "date",
         "rawType": "datetime64[ns]",
         "type": "datetime"
        },
        {
         "name": "city",
         "rawType": "object",
         "type": "string"
        },
        {
         "name": "province",
         "rawType": "object",
         "type": "string"
        },
        {
         "name": "PM25",
         "rawType": "int64",
         "type": "integer"
        },
        {
         "name": "PM10",
         "rawType": "int64",
         "type": "integer"
        },
        {
         "name": "NO2",
         "rawType": "int64",
         "type": "integer"
        },
        {
         "name": "SO2",
         "rawType": "int64",
         "type": "integer"
        }
       ],
       "ref": "953f37f7-db27-47dd-93b1-fb63f52cc2af",
       "rows": [
        [
         "0",
         "2025-09-01 00:00:00",
         "广州",
         "广东",
         "42",
         "55",
         "19",
         "7"
        ],
        [
         "1",
         "2025-09-02 00:00:00",
         "广州",
         "广东",
         "41",
         "54",
         "18",
         "7"
        ],
        [
         "2",
         "2025-09-03 00:00:00",
         "广州",
         "广东",
         "39",
         "50",
         "17",
         "6"
        ],
        [
         "5",
         "2025-09-01 00:00:00",
         "北京",
         "北京",
         "60",
         "80",
         "35",
         "12"
        ],
        [
         "6",
         "2025-09-02 00:00:00",
         "北京",
         "北京",
         "65",
         "85",
         "37",
         "13"
        ]
       ],
       "shape": {
        "columns": 7,
        "rows": 5
       }
      },
      "text/html": [
       "<div>\n",
       "<style scoped>\n",
       "    .dataframe tbody tr th:only-of-type {\n",
       "        vertical-align: middle;\n",
       "    }\n",
       "\n",
       "    .dataframe tbody tr th {\n",
       "        vertical-align: top;\n",
       "    }\n",
       "\n",
       "    .dataframe thead th {\n",
       "        text-align: right;\n",
       "    }\n",
       "</style>\n",
       "<table border=\"1\" class=\"dataframe\">\n",
       "  <thead>\n",
       "    <tr style=\"text-align: right;\">\n",
       "      <th></th>\n",
       "      <th>date</th>\n",
       "      <th>city</th>\n",
       "      <th>province</th>\n",
       "      <th>PM25</th>\n",
       "      <th>PM10</th>\n",
       "      <th>NO2</th>\n",
       "      <th>SO2</th>\n",
       "    </tr>\n",
       "  </thead>\n",
       "  <tbody>\n",
       "    <tr>\n",
       "      <th>0</th>\n",
       "      <td>2025-09-01</td>\n",
       "      <td>广州</td>\n",
       "      <td>广东</td>\n",
       "      <td>42</td>\n",
       "      <td>55</td>\n",
       "      <td>19</td>\n",
       "      <td>7</td>\n",
       "    </tr>\n",
       "    <tr>\n",
       "      <th>1</th>\n",
       "      <td>2025-09-02</td>\n",
       "      <td>广州</td>\n",
       "      <td>广东</td>\n",
       "      <td>41</td>\n",
       "      <td>54</td>\n",
       "      <td>18</td>\n",
       "      <td>7</td>\n",
       "    </tr>\n",
       "    <tr>\n",
       "      <th>2</th>\n",
       "      <td>2025-09-03</td>\n",
       "      <td>广州</td>\n",
       "      <td>广东</td>\n",
       "      <td>39</td>\n",
       "      <td>50</td>\n",
       "      <td>17</td>\n",
       "      <td>6</td>\n",
       "    </tr>\n",
       "    <tr>\n",
       "      <th>5</th>\n",
       "      <td>2025-09-01</td>\n",
       "      <td>北京</td>\n",
       "      <td>北京</td>\n",
       "      <td>60</td>\n",
       "      <td>80</td>\n",
       "      <td>35</td>\n",
       "      <td>12</td>\n",
       "    </tr>\n",
       "    <tr>\n",
       "      <th>6</th>\n",
       "      <td>2025-09-02</td>\n",
       "      <td>北京</td>\n",
       "      <td>北京</td>\n",
       "      <td>65</td>\n",
       "      <td>85</td>\n",
       "      <td>37</td>\n",
       "      <td>13</td>\n",
       "    </tr>\n",
       "  </tbody>\n",
       "</table>\n",
       "</div>"
      ],
      "text/plain": [
       "        date city province  PM25  PM10  NO2  SO2\n",
       "0 2025-09-01   广州       广东    42    55   19    7\n",
       "1 2025-09-02   广州       广东    41    54   18    7\n",
       "2 2025-09-03   广州       广东    39    50   17    6\n",
       "5 2025-09-01   北京       北京    60    80   35   12\n",
       "6 2025-09-02   北京       北京    65    85   37   13"
      ]
     },
     "execution_count": 5,
     "metadata": {},
     "output_type": "execute_result"
    }
   ],
   "source": [
    "part1 = air[air['date'] <= air['date'].sort_values().unique()[2]]\n",
    "part2 = air[air['date'] > air['date'].sort_values().unique()[2]]\n",
    "recombined = pd.concat([part1, part2], axis=0)\n",
    "print('是否一样:', recombined.shape == air.shape)\n",
    "recombined.head()"
   ]
  },
  {
   "cell_type": "markdown",
   "id": "49c8d8fa",
   "metadata": {},
   "source": [
    "### 小练习 2\n",
    "1. 模拟一个缺少某列的 DataFrame 再 concat，观察列对齐。\n",
    "2. axis=1 会发生什么？"
   ]
  },
  {
   "cell_type": "markdown",
   "id": "a296f7c1",
   "metadata": {},
   "source": [
    "## 4. groupby 分组聚合与多指标 agg\n",
    "示例：按城市统计 PM2.5 平均值 & 最大值；按区域统计 PM2.5/PM10 平均。"
   ]
  },
  {
   "cell_type": "code",
   "execution_count": 6,
   "id": "ef3c1280",
   "metadata": {},
   "outputs": [
    {
     "data": {
      "application/vnd.microsoft.datawrangler.viewer.v0+json": {
       "columns": [
        {
         "name": "city",
         "rawType": "object",
         "type": "string"
        },
        {
         "name": "mean",
         "rawType": "float64",
         "type": "float"
        },
        {
         "name": "max",
         "rawType": "int64",
         "type": "integer"
        },
        {
         "name": "min",
         "rawType": "int64",
         "type": "integer"
        }
       ],
       "ref": "e53115bb-24a6-490f-90a3-4f12a8bf2a18",
       "rows": [
        [
         "北京",
         "62.2",
         "66",
         "58"
        ],
        [
         "成都",
         "59.2",
         "62",
         "57"
        ],
        [
         "重庆",
         "55.4",
         "57",
         "54"
        ],
        [
         "上海",
         "45.0",
         "47",
         "43"
        ],
        [
         "广州",
         "42.2",
         "45",
         "39"
        ]
       ],
       "shape": {
        "columns": 3,
        "rows": 5
       }
      },
      "text/html": [
       "<div>\n",
       "<style scoped>\n",
       "    .dataframe tbody tr th:only-of-type {\n",
       "        vertical-align: middle;\n",
       "    }\n",
       "\n",
       "    .dataframe tbody tr th {\n",
       "        vertical-align: top;\n",
       "    }\n",
       "\n",
       "    .dataframe thead th {\n",
       "        text-align: right;\n",
       "    }\n",
       "</style>\n",
       "<table border=\"1\" class=\"dataframe\">\n",
       "  <thead>\n",
       "    <tr style=\"text-align: right;\">\n",
       "      <th></th>\n",
       "      <th>mean</th>\n",
       "      <th>max</th>\n",
       "      <th>min</th>\n",
       "    </tr>\n",
       "    <tr>\n",
       "      <th>city</th>\n",
       "      <th></th>\n",
       "      <th></th>\n",
       "      <th></th>\n",
       "    </tr>\n",
       "  </thead>\n",
       "  <tbody>\n",
       "    <tr>\n",
       "      <th>北京</th>\n",
       "      <td>62.2</td>\n",
       "      <td>66</td>\n",
       "      <td>58</td>\n",
       "    </tr>\n",
       "    <tr>\n",
       "      <th>成都</th>\n",
       "      <td>59.2</td>\n",
       "      <td>62</td>\n",
       "      <td>57</td>\n",
       "    </tr>\n",
       "    <tr>\n",
       "      <th>重庆</th>\n",
       "      <td>55.4</td>\n",
       "      <td>57</td>\n",
       "      <td>54</td>\n",
       "    </tr>\n",
       "    <tr>\n",
       "      <th>上海</th>\n",
       "      <td>45.0</td>\n",
       "      <td>47</td>\n",
       "      <td>43</td>\n",
       "    </tr>\n",
       "    <tr>\n",
       "      <th>广州</th>\n",
       "      <td>42.2</td>\n",
       "      <td>45</td>\n",
       "      <td>39</td>\n",
       "    </tr>\n",
       "  </tbody>\n",
       "</table>\n",
       "</div>"
      ],
      "text/plain": [
       "      mean  max  min\n",
       "city                \n",
       "北京    62.2   66   58\n",
       "成都    59.2   62   57\n",
       "重庆    55.4   57   54\n",
       "上海    45.0   47   43\n",
       "广州    42.2   45   39"
      ]
     },
     "execution_count": 6,
     "metadata": {},
     "output_type": "execute_result"
    }
   ],
   "source": [
    "# 每城市 PM2.5 平均与最大\n",
    "city_pm25_stats = merged.groupby('city')['PM25'].agg(['mean','max','min']).sort_values('mean', ascending=False)\n",
    "city_pm25_stats.head()"
   ]
  },
  {
   "cell_type": "code",
   "execution_count": 7,
   "id": "9f8cdb5a",
   "metadata": {},
   "outputs": [
    {
     "data": {
      "application/vnd.microsoft.datawrangler.viewer.v0+json": {
       "columns": [
        {
         "name": "region",
         "rawType": "object",
         "type": "string"
        },
        {
         "name": "PM25",
         "rawType": "float64",
         "type": "float"
        },
        {
         "name": "PM10",
         "rawType": "float64",
         "type": "float"
        }
       ],
       "ref": "6cdc163b-a1b3-4c68-9ffd-e61fad3098a9",
       "rows": [
        [
         "华北",
         "62.2",
         "82.2"
        ],
        [
         "西南",
         "57.3",
         "74.3"
        ],
        [
         "华南",
         "42.2",
         "54.4"
        ],
        [
         "华东",
         "42.0",
         "56.0"
        ]
       ],
       "shape": {
        "columns": 2,
        "rows": 4
       }
      },
      "text/html": [
       "<div>\n",
       "<style scoped>\n",
       "    .dataframe tbody tr th:only-of-type {\n",
       "        vertical-align: middle;\n",
       "    }\n",
       "\n",
       "    .dataframe tbody tr th {\n",
       "        vertical-align: top;\n",
       "    }\n",
       "\n",
       "    .dataframe thead th {\n",
       "        text-align: right;\n",
       "    }\n",
       "</style>\n",
       "<table border=\"1\" class=\"dataframe\">\n",
       "  <thead>\n",
       "    <tr style=\"text-align: right;\">\n",
       "      <th></th>\n",
       "      <th>PM25</th>\n",
       "      <th>PM10</th>\n",
       "    </tr>\n",
       "    <tr>\n",
       "      <th>region</th>\n",
       "      <th></th>\n",
       "      <th></th>\n",
       "    </tr>\n",
       "  </thead>\n",
       "  <tbody>\n",
       "    <tr>\n",
       "      <th>华北</th>\n",
       "      <td>62.2</td>\n",
       "      <td>82.2</td>\n",
       "    </tr>\n",
       "    <tr>\n",
       "      <th>西南</th>\n",
       "      <td>57.3</td>\n",
       "      <td>74.3</td>\n",
       "    </tr>\n",
       "    <tr>\n",
       "      <th>华南</th>\n",
       "      <td>42.2</td>\n",
       "      <td>54.4</td>\n",
       "    </tr>\n",
       "    <tr>\n",
       "      <th>华东</th>\n",
       "      <td>42.0</td>\n",
       "      <td>56.0</td>\n",
       "    </tr>\n",
       "  </tbody>\n",
       "</table>\n",
       "</div>"
      ],
      "text/plain": [
       "        PM25  PM10\n",
       "region            \n",
       "华北      62.2  82.2\n",
       "西南      57.3  74.3\n",
       "华南      42.2  54.4\n",
       "华东      42.0  56.0"
      ]
     },
     "execution_count": 7,
     "metadata": {},
     "output_type": "execute_result"
    }
   ],
   "source": [
    "# 按区域 region 计算 PM2.5 & PM10 平均\n",
    "region_stats = merged.groupby('region')[['PM25','PM10']].mean().sort_values('PM25', ascending=False)\n",
    "region_stats"
   ]
  },
  {
   "cell_type": "markdown",
   "id": "c95cc47c",
   "metadata": {},
   "source": [
    "### 多列不同聚合写法\n",
    "`agg({'PM25':['mean','max'], 'PM10':'mean'})`"
   ]
  },
  {
   "cell_type": "code",
   "execution_count": 8,
   "id": "3fa89e32",
   "metadata": {},
   "outputs": [
    {
     "data": {
      "application/vnd.microsoft.datawrangler.viewer.v0+json": {
       "columns": [
        {
         "name": "region",
         "rawType": "object",
         "type": "string"
        },
        {
         "name": "('PM25', 'mean')",
         "rawType": "float64",
         "type": "float"
        },
        {
         "name": "('PM25', 'max')",
         "rawType": "int64",
         "type": "integer"
        },
        {
         "name": "('PM10', 'mean')",
         "rawType": "float64",
         "type": "float"
        }
       ],
       "ref": "cef348f6-d2d8-4ab8-8e98-09a6e16aaa45",
       "rows": [
        [
         "华东",
         "42.0",
         "47",
         "56.0"
        ],
        [
         "华北",
         "62.2",
         "66",
         "82.2"
        ],
        [
         "华南",
         "42.2",
         "45",
         "54.4"
        ],
        [
         "西南",
         "57.3",
         "62",
         "74.3"
        ]
       ],
       "shape": {
        "columns": 3,
        "rows": 4
       }
      },
      "text/html": [
       "<div>\n",
       "<style scoped>\n",
       "    .dataframe tbody tr th:only-of-type {\n",
       "        vertical-align: middle;\n",
       "    }\n",
       "\n",
       "    .dataframe tbody tr th {\n",
       "        vertical-align: top;\n",
       "    }\n",
       "\n",
       "    .dataframe thead tr th {\n",
       "        text-align: left;\n",
       "    }\n",
       "\n",
       "    .dataframe thead tr:last-of-type th {\n",
       "        text-align: right;\n",
       "    }\n",
       "</style>\n",
       "<table border=\"1\" class=\"dataframe\">\n",
       "  <thead>\n",
       "    <tr>\n",
       "      <th></th>\n",
       "      <th colspan=\"2\" halign=\"left\">PM25</th>\n",
       "      <th>PM10</th>\n",
       "    </tr>\n",
       "    <tr>\n",
       "      <th></th>\n",
       "      <th>mean</th>\n",
       "      <th>max</th>\n",
       "      <th>mean</th>\n",
       "    </tr>\n",
       "    <tr>\n",
       "      <th>region</th>\n",
       "      <th></th>\n",
       "      <th></th>\n",
       "      <th></th>\n",
       "    </tr>\n",
       "  </thead>\n",
       "  <tbody>\n",
       "    <tr>\n",
       "      <th>华东</th>\n",
       "      <td>42.0</td>\n",
       "      <td>47</td>\n",
       "      <td>56.0</td>\n",
       "    </tr>\n",
       "    <tr>\n",
       "      <th>华北</th>\n",
       "      <td>62.2</td>\n",
       "      <td>66</td>\n",
       "      <td>82.2</td>\n",
       "    </tr>\n",
       "    <tr>\n",
       "      <th>华南</th>\n",
       "      <td>42.2</td>\n",
       "      <td>45</td>\n",
       "      <td>54.4</td>\n",
       "    </tr>\n",
       "    <tr>\n",
       "      <th>西南</th>\n",
       "      <td>57.3</td>\n",
       "      <td>62</td>\n",
       "      <td>74.3</td>\n",
       "    </tr>\n",
       "  </tbody>\n",
       "</table>\n",
       "</div>"
      ],
      "text/plain": [
       "        PM25      PM10\n",
       "        mean max  mean\n",
       "region                \n",
       "华东      42.0  47  56.0\n",
       "华北      62.2  66  82.2\n",
       "华南      42.2  45  54.4\n",
       "西南      57.3  62  74.3"
      ]
     },
     "execution_count": 8,
     "metadata": {},
     "output_type": "execute_result"
    }
   ],
   "source": [
    "multi_agg = merged.groupby('region').agg({'PM25':['mean','max'], 'PM10':'mean'})\n",
    "multi_agg"
   ]
  },
  {
   "cell_type": "markdown",
   "id": "b306fdc5",
   "metadata": {},
   "source": [
    "### 小练习 3\n",
    "1. 计算各 city 的 NO2 平均与 SO2 平均。\n",
    "2. 找出平均 PM25 最低的 3 个城市。"
   ]
  },
  {
   "cell_type": "markdown",
   "id": "1a5035fc",
   "metadata": {},
   "source": [
    "## 5. 新增衍生指标 (人均 & 比值)\n",
    "示例：人均 PM2.5 = PM25 / population_million (注意只是示例，并非真实科学算法)。\n",
    "还可构造：PM10 与 PM25 之差 diff = PM10 - PM25。"
   ]
  },
  {
   "cell_type": "code",
   "execution_count": 9,
   "id": "7ae91ac0",
   "metadata": {},
   "outputs": [
    {
     "data": {
      "application/vnd.microsoft.datawrangler.viewer.v0+json": {
       "columns": [
        {
         "name": "index",
         "rawType": "int64",
         "type": "integer"
        },
        {
         "name": "date",
         "rawType": "datetime64[ns]",
         "type": "datetime"
        },
        {
         "name": "city",
         "rawType": "object",
         "type": "string"
        },
        {
         "name": "PM25",
         "rawType": "int64",
         "type": "integer"
        },
        {
         "name": "population_million",
         "rawType": "float64",
         "type": "float"
        },
        {
         "name": "PM25_per_million",
         "rawType": "float64",
         "type": "float"
        },
        {
         "name": "PM_diff",
         "rawType": "int64",
         "type": "integer"
        }
       ],
       "ref": "159c4216-f24d-4405-b060-9b4e67e2d11b",
       "rows": [
        [
         "0",
         "2025-09-01 00:00:00",
         "广州",
         "42",
         "18.7",
         "2.2459893048128343",
         "13"
        ],
        [
         "1",
         "2025-09-02 00:00:00",
         "广州",
         "41",
         "18.7",
         "2.192513368983957",
         "13"
        ],
        [
         "2",
         "2025-09-03 00:00:00",
         "广州",
         "39",
         "18.7",
         "2.085561497326203",
         "11"
        ],
        [
         "3",
         "2025-09-04 00:00:00",
         "广州",
         "45",
         "18.7",
         "2.4064171122994655",
         "12"
        ],
        [
         "4",
         "2025-09-05 00:00:00",
         "广州",
         "44",
         "18.7",
         "2.3529411764705883",
         "12"
        ]
       ],
       "shape": {
        "columns": 6,
        "rows": 5
       }
      },
      "text/html": [
       "<div>\n",
       "<style scoped>\n",
       "    .dataframe tbody tr th:only-of-type {\n",
       "        vertical-align: middle;\n",
       "    }\n",
       "\n",
       "    .dataframe tbody tr th {\n",
       "        vertical-align: top;\n",
       "    }\n",
       "\n",
       "    .dataframe thead th {\n",
       "        text-align: right;\n",
       "    }\n",
       "</style>\n",
       "<table border=\"1\" class=\"dataframe\">\n",
       "  <thead>\n",
       "    <tr style=\"text-align: right;\">\n",
       "      <th></th>\n",
       "      <th>date</th>\n",
       "      <th>city</th>\n",
       "      <th>PM25</th>\n",
       "      <th>population_million</th>\n",
       "      <th>PM25_per_million</th>\n",
       "      <th>PM_diff</th>\n",
       "    </tr>\n",
       "  </thead>\n",
       "  <tbody>\n",
       "    <tr>\n",
       "      <th>0</th>\n",
       "      <td>2025-09-01</td>\n",
       "      <td>广州</td>\n",
       "      <td>42</td>\n",
       "      <td>18.7</td>\n",
       "      <td>2.245989</td>\n",
       "      <td>13</td>\n",
       "    </tr>\n",
       "    <tr>\n",
       "      <th>1</th>\n",
       "      <td>2025-09-02</td>\n",
       "      <td>广州</td>\n",
       "      <td>41</td>\n",
       "      <td>18.7</td>\n",
       "      <td>2.192513</td>\n",
       "      <td>13</td>\n",
       "    </tr>\n",
       "    <tr>\n",
       "      <th>2</th>\n",
       "      <td>2025-09-03</td>\n",
       "      <td>广州</td>\n",
       "      <td>39</td>\n",
       "      <td>18.7</td>\n",
       "      <td>2.085561</td>\n",
       "      <td>11</td>\n",
       "    </tr>\n",
       "    <tr>\n",
       "      <th>3</th>\n",
       "      <td>2025-09-04</td>\n",
       "      <td>广州</td>\n",
       "      <td>45</td>\n",
       "      <td>18.7</td>\n",
       "      <td>2.406417</td>\n",
       "      <td>12</td>\n",
       "    </tr>\n",
       "    <tr>\n",
       "      <th>4</th>\n",
       "      <td>2025-09-05</td>\n",
       "      <td>广州</td>\n",
       "      <td>44</td>\n",
       "      <td>18.7</td>\n",
       "      <td>2.352941</td>\n",
       "      <td>12</td>\n",
       "    </tr>\n",
       "  </tbody>\n",
       "</table>\n",
       "</div>"
      ],
      "text/plain": [
       "        date city  PM25  population_million  PM25_per_million  PM_diff\n",
       "0 2025-09-01   广州    42                18.7          2.245989       13\n",
       "1 2025-09-02   广州    41                18.7          2.192513       13\n",
       "2 2025-09-03   广州    39                18.7          2.085561       11\n",
       "3 2025-09-04   广州    45                18.7          2.406417       12\n",
       "4 2025-09-05   广州    44                18.7          2.352941       12"
      ]
     },
     "execution_count": 9,
     "metadata": {},
     "output_type": "execute_result"
    }
   ],
   "source": [
    "merged['PM25_per_million'] = merged['PM25'] / merged['population_million']\n",
    "merged['PM_diff'] = merged['PM10'] - merged['PM25']\n",
    "merged[['date','city','PM25','population_million','PM25_per_million','PM_diff']].head()"
   ]
  },
  {
   "cell_type": "code",
   "execution_count": 10,
   "id": "97db18c8",
   "metadata": {},
   "outputs": [
    {
     "data": {
      "application/vnd.microsoft.datawrangler.viewer.v0+json": {
       "columns": [
        {
         "name": "region",
         "rawType": "object",
         "type": "string"
        },
        {
         "name": "PM25_per_million",
         "rawType": "float64",
         "type": "float"
        }
       ],
       "ref": "e7480f21-0b56-4461-81bf-987cff64f00e",
       "rows": [
        [
         "华北",
         "2.8401826484018264"
        ],
        [
         "华东",
         "2.46"
        ],
        [
         "西南",
         "2.2724521584334667"
        ],
        [
         "华南",
         "2.2566844919786098"
        ]
       ],
       "shape": {
        "columns": 1,
        "rows": 4
       }
      },
      "text/plain": [
       "region\n",
       "华北    2.840183\n",
       "华东    2.460000\n",
       "西南    2.272452\n",
       "华南    2.256684\n",
       "Name: PM25_per_million, dtype: float64"
      ]
     },
     "execution_count": 10,
     "metadata": {},
     "output_type": "execute_result"
    }
   ],
   "source": [
    "# 区域层面的人均 PM2.5 平均 (再聚合)\n",
    "region_per_capita = merged.groupby('region')['PM25_per_million'].mean().sort_values(ascending=False)\n",
    "region_per_capita"
   ]
  },
  {
   "cell_type": "markdown",
   "id": "9c777761",
   "metadata": {},
   "source": [
    "### 小练习 4\n",
    "1. 新增列 PM_ratio = PM10 / PM25。\n",
    "2. 计算各区域 PM_ratio 平均，排序。"
   ]
  },
  {
   "cell_type": "markdown",
   "id": "b7affef1",
   "metadata": {},
   "source": [
    "## 6. Mini Project 任务说明\n",
    "30~45 分钟内完成：\n",
    "1. 选 2~3 个问题 (例：哪个区域人均 PM2.5 指标最高？城市 PM10-PM25 差值分布怎样？)\n",
    "2. 数据流程：读取 → 合并 → 衍生列 → 分组统计/排序 → 1 张图 (柱状/折线/散点选其一)\n",
    "3. 输出：\n",
    "   - 关键表 1~2 个 (head 或整表简洁显示)\n",
    "   - 图 1 张\n",
    "   - 结论 80~120 字（含客观描述 + 解释 + 局限）\n",
    "4. 伦理：注明数据来源 (课程提供示例)"
   ]
  },
  {
   "cell_type": "markdown",
   "id": "6021162a",
   "metadata": {},
   "source": [
    "## 7. 项目示例骨架 (可直接复制修改)\n",
    "下面示例：问题：哪个区域的平均 PM25 与人均 PM25 指标都偏高？"
   ]
  },
  {
   "cell_type": "code",
   "execution_count": 11,
   "id": "271df4c3",
   "metadata": {},
   "outputs": [
    {
     "data": {
      "application/vnd.microsoft.datawrangler.viewer.v0+json": {
       "columns": [
        {
         "name": "region",
         "rawType": "object",
         "type": "string"
        },
        {
         "name": "PM25",
         "rawType": "float64",
         "type": "float"
        },
        {
         "name": "PM25_per_million",
         "rawType": "float64",
         "type": "float"
        },
        {
         "name": "PM_diff",
         "rawType": "float64",
         "type": "float"
        }
       ],
       "ref": "ba9cb121-4d65-4c3d-9011-ecf81f2f69fb",
       "rows": [
        [
         "华北",
         "62.2",
         "2.8401826484018264",
         "20.0"
        ],
        [
         "西南",
         "57.3",
         "2.2724521584334667",
         "17.0"
        ],
        [
         "华南",
         "42.2",
         "2.2566844919786098",
         "12.2"
        ],
        [
         "华东",
         "42.0",
         "2.46",
         "14.0"
        ]
       ],
       "shape": {
        "columns": 3,
        "rows": 4
       }
      },
      "text/html": [
       "<div>\n",
       "<style scoped>\n",
       "    .dataframe tbody tr th:only-of-type {\n",
       "        vertical-align: middle;\n",
       "    }\n",
       "\n",
       "    .dataframe tbody tr th {\n",
       "        vertical-align: top;\n",
       "    }\n",
       "\n",
       "    .dataframe thead th {\n",
       "        text-align: right;\n",
       "    }\n",
       "</style>\n",
       "<table border=\"1\" class=\"dataframe\">\n",
       "  <thead>\n",
       "    <tr style=\"text-align: right;\">\n",
       "      <th></th>\n",
       "      <th>PM25</th>\n",
       "      <th>PM25_per_million</th>\n",
       "      <th>PM_diff</th>\n",
       "    </tr>\n",
       "    <tr>\n",
       "      <th>region</th>\n",
       "      <th></th>\n",
       "      <th></th>\n",
       "      <th></th>\n",
       "    </tr>\n",
       "  </thead>\n",
       "  <tbody>\n",
       "    <tr>\n",
       "      <th>华北</th>\n",
       "      <td>62.2</td>\n",
       "      <td>2.840183</td>\n",
       "      <td>20.0</td>\n",
       "    </tr>\n",
       "    <tr>\n",
       "      <th>西南</th>\n",
       "      <td>57.3</td>\n",
       "      <td>2.272452</td>\n",
       "      <td>17.0</td>\n",
       "    </tr>\n",
       "    <tr>\n",
       "      <th>华南</th>\n",
       "      <td>42.2</td>\n",
       "      <td>2.256684</td>\n",
       "      <td>12.2</td>\n",
       "    </tr>\n",
       "    <tr>\n",
       "      <th>华东</th>\n",
       "      <td>42.0</td>\n",
       "      <td>2.460000</td>\n",
       "      <td>14.0</td>\n",
       "    </tr>\n",
       "  </tbody>\n",
       "</table>\n",
       "</div>"
      ],
      "text/plain": [
       "        PM25  PM25_per_million  PM_diff\n",
       "region                                 \n",
       "华北      62.2          2.840183     20.0\n",
       "西南      57.3          2.272452     17.0\n",
       "华南      42.2          2.256684     12.2\n",
       "华东      42.0          2.460000     14.0"
      ]
     },
     "execution_count": 11,
     "metadata": {},
     "output_type": "execute_result"
    }
   ],
   "source": [
    "# (1) 基础汇总\n",
    "region_summary = merged.groupby('region').agg({\n",
    "    'PM25':'mean',\n",
    "    'PM25_per_million':'mean',\n",
    "    'PM_diff':'mean'\n",
    "}).sort_values('PM25', ascending=False)\n",
    "region_summary"
   ]
  },
  {
   "cell_type": "code",
   "execution_count": 19,
   "id": "1a094c30",
   "metadata": {},
   "outputs": [
    {
     "data": {
      "image/png": "[encoded data removed]",
      "text/plain": [
       "<Figure size 600x400 with 1 Axes>"
      ]
     },
     "metadata": {},
     "output_type": "display_data"
    }
   ],
   "source": [
    "# (2) 可视化：区域 PM25 & 人均 PM25 对比 (双柱简单示意)\n",
    "\n",
    "# 设置中文显示和负号正常显示\n",
    "plt.rcParams['font.sans-serif'] = ['AR PL UMing CN']\n",
    "plt.rcParams['axes.unicode_minus'] = False\n",
    "\n",
    "plt.figure(figsize=(6,4))\n",
    "x = region_summary.index\n",
    "plt.bar(x, region_summary['PM25'], width=0.4, alpha=0.7, label='PM25 平均')\n",
    "\n",
    "plt.bar(x, region_summary['PM25_per_million']*100, width=0.4, alpha=0.7, label='人均 PM25 (×100示意)')\n",
    "plt.title('区域 PM25 与人均指标对比 (示意)')\n",
    "plt.ylabel('值 (PM25: μg/m³)')\n",
    "plt.xticks(rotation=20)\n",
    "plt.legend()\n",
    "plt.tight_layout()\n",
    "plt.show()"
   ]
  },
  {
   "cell_type": "markdown",
   "id": "1c2d97d1",
   "metadata": {},
   "source": [
    "> 说明：人均指标乘以 100 只是为了放在同一尺度上做演示，真实比较应规范化或用双轴 (本课程暂不展开)。"
   ]
  },
  {
   "cell_type": "markdown",
   "id": "6f34f854",
   "metadata": {},
   "source": [
    "### 示例结论草稿 (请自行再加工)\n",
    "华南与西南区域 PM25 平均值位于前列，同时人均 PM25 示意指标（缩放后）也较高，说明这些区域内人口集中城市的空气质量治理仍需关注。需要注意样本仅 5 天，且指标简化，不代表长期趋势。"
   ]
  },
  {
   "cell_type": "markdown",
   "id": "85f6b4f9",
   "metadata": {},
   "source": [
    "### 小练习 5\n",
    "1. 选取 PM_diff 最大的前 5 个城市，看看是否集中在某区域。\n",
    "2. 重新绘制一张图：只展示 top5 城市的 PM25 平均值。\n",
    "3. 写 2 句说明该图表达了什么。"
   ]
  },
  {
   "cell_type": "markdown",
   "id": "ca2c7877",
   "metadata": {},
   "source": [
    "## 8. 小结\n",
    "今日串联：\n",
    "1. merge：按 key（city）横向引入维度信息；how 影响保留范围（inner/left 等）。\n",
    "2. concat：纵向追加同结构数据，注意列自动对齐与缺失填补。\n",
    "3. groupby + agg：支持多指标统计，形成结构化摘要；链式：排序→筛选→可视化。\n",
    "4. 衍生指标：基于领域/问题设计（人均、差值、比率）→ 先说明计算假设。\n",
    "5. Mini Project：强调“问题驱动”而非“函数堆砌”。\n",
    "\n",
    "实务建议：\n",
    "- 每做一次合并后立即 shape / isnull().sum() 自检。\n",
    "- 聚合输出命名清晰（mean / max），必要时 reset_index 方便后续处理。\n",
    "- 指标缩放或示意需注明倍数，保持透明与可复现。\n",
    "\n",
    "衔接：明天的入门模型会利用今天的“整洁 + 衍生”思路构造特征。"
   ]
  },
  {
   "cell_type": "code",
   "execution_count": 13,
   "id": "5da8fa48",
   "metadata": {},
   "outputs": [
    {
     "name": "stdout",
     "output_type": "stream",
     "text": [
      "_merge\n",
      "both          30\n",
      "left_only      0\n",
      "right_only     0\n",
      "Name: count, dtype: int64\n",
      "        PM25_mean  PM25_max  PM10_mean\n",
      "region                                \n",
      "华东           42.0        47       56.0\n",
      "华北           62.2        66       82.2\n",
      "华南           42.2        45       54.4\n",
      "西南           57.3        62       74.3\n",
      "  city       date  PM25  PM25_rank_in_city\n",
      "0   广州 2025-09-01    42                3.0\n",
      "1   广州 2025-09-02    41                4.0\n",
      "2   广州 2025-09-03    39                5.0\n",
      "3   广州 2025-09-04    45                1.0\n",
      "4   广州 2025-09-05    44                2.0\n",
      "date    2025-09-01  2025-09-02  2025-09-03  2025-09-04  2025-09-05\n",
      "region                                                            \n",
      "华东            41.5        43.5        41.0        41.5        42.5\n",
      "华北            60.0        65.0        58.0        62.0        66.0\n",
      "华南            42.0        41.0        39.0        45.0        44.0\n",
      "西南            56.5        55.5        58.0        59.5        57.0\n",
      "过滤后城市数: 6\n"
     ]
    }
   ],
   "source": [
    "# 进阶合并与分组示例\n",
    "import pandas as pd\n",
    "air = pd.read_csv('../data/air_quality_timeseries.csv', parse_dates=['date'])\n",
    "info = pd.read_csv('../data/city_info.csv')\n",
    "\n",
    "# 1. 合并并带来源指示\n",
    "m = pd.merge(air, info, on='city', how='left', indicator=True)\n",
    "print(m['_merge'].value_counts())\n",
    "\n",
    "# 2. 多级 agg 扁平化\n",
    "agg_df = m.groupby('region').agg({'PM25':['mean','max'], 'PM10':'mean'})\n",
    "agg_df.columns = ['_'.join(col) for col in agg_df.columns]\n",
    "print(agg_df.head())\n",
    "\n",
    "# 3. 分组排名\n",
    "m['PM25_rank_in_city'] = m.groupby('city')['PM25'].rank(ascending=False, method='dense')\n",
    "print(m[['city','date','PM25','PM25_rank_in_city']].head())\n",
    "\n",
    "# 4. 透视表雏形\n",
    "pivot = m.pivot_table(values='PM25', index='region', columns='date', aggfunc='mean')\n",
    "print(pivot.head())\n",
    "\n",
    "# 5. 分组过滤：只保留记录数>=5 的城市\n",
    "filtered = m.groupby('city').filter(lambda d: len(d) >= 5)\n",
    "print('过滤后城市数:', filtered['city'].nunique())"
   ]
  },
  {
   "cell_type": "markdown",
   "id": "37f38ca8",
   "metadata": {},
   "source": [
    "### 合并 / 分组进阶技巧\n",
    "1. 验证连接是否丢数据：合并前后行数 + 是否出现空值。\n",
    "2. 指定左右键不同名：pd.merge(a,b,left_on='city', right_on='city_name')。\n",
    "3. 指定多键：on=['date','city']，确保业务唯一。\n",
    "4. 指标扁平化：multi_agg.columns = ['_'.join(col)] 去除多级列。\n",
    "5. 分组过滤：groupby('city').filter(lambda d: len(d)>3)。\n",
    "6. 分组排名：merged['pm25_rank_city'] = merged.groupby('city')['PM25'].rank(ascending=False)。\n",
    "7. 高效统计唯一个数：nunique(dropna=False)。\n",
    "8. 交叉表/透视需求起点：merged.pivot_table(values='PM25', index='region', columns='date', aggfunc='mean') (了解)。\n",
    "9. 丢失键分析：使用 indicator=True 查看合并来源。\n",
    "10. 内存友好：只选用必要列再合并，减少宽表。"
   ]
  },
  {
   "cell_type": "markdown",
   "id": "7610bfd6",
   "metadata": {},
   "source": [
    "## 9. 课后作业要求\n",
    "提交 *mini_project_day6.ipynb*：\n",
    "1. 标题：你的项目主题\n",
    "2. 至少 2 个明确分析问题 (问题句式)\n",
    "3. 数据步骤：读取→合并→新增列→分组→图表 (每步有 Markdown 注释)\n",
    "4. 结果：1~2 张图 + 关键表\n",
    "5. 结论：100~150 字（含发现 + 局限 + 后续可以加的数据）\n",
    "6. 伦理与来源：写出数据来源与是否做过简化/假设\n",
    "(可选) 7. 将其中一段重复统计封装成函数 (如：传入 region 返回其 PM25 均值)。"
   ]
  },
  {
   "cell_type": "markdown",
   "id": "49f9d899",
   "metadata": {},
   "source": [
    "---\n",
    "📌 提示：明天 Day 7 只做最小模型体验，保持 Notebook 干净结构利于后续复用。"
   ]
  }
 ],
 "metadata": {
  "kernelspec": {
   "display_name": "base",
   "language": "python",
   "name": "python3"
  },
  "language_info": {
   "codemirror_mode": {
    "name": "ipython",
    "version": 3
   },
   "file_extension": ".py",
   "mimetype": "text/x-python",
   "name": "python",
   "nbconvert_exporter": "python",
   "pygments_lexer": "ipython3",
   "version": "3.12.7"
  }
 },
 "nbformat": 4,
 "nbformat_minor": 5
}
