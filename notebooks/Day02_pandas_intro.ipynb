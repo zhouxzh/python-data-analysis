{
 "cells": [
  {
   "cell_type": "markdown",
   "id": "922edb90",
   "metadata": {},
   "source": [
    "# Day 2：pandas 入门（数据结构与导入）\n",
    "\n",
    "> 今日目标：掌握 Series / DataFrame 基本概念、创建方式、读取 CSV，完成列/行选择、新增列、基础统计。\n",
    "\n",
    "学习路径：\n",
    "0. numpy 入门（数组基础）\n",
    "1. 为什么需要 pandas\n",
    "2. Series 与 DataFrame 概念 & 快速创建\n",
    "3. 读取 CSV 并初步查看数据\n",
    "4. 列 / 行 选取与切片\n",
    "5. 新增列（含单位换算示例）\n",
    "6. 基础统计（mean / max / value_counts）\n",
    "7. Mini Case：找出 PM2.5 均值最高的 3 个城市\n",
    "8. 小结\n",
    "9. 课后作业提示\n",
    "\n",
    "> 建议：每完成一个模块，自己新增一小段变形练习（例如换个列名、换个筛选条件）。"
   ]
  },
  {
   "cell_type": "markdown",
   "id": "d47392d9",
   "metadata": {},
   "source": [
    "## 0. numpy 入门（数组基础）\n",
    "\n",
    "Numpy 是 Python 科学计算的基础库，pandas 的底层数据结构就是基于 numpy 数组。\n",
    "\n",
    "### 0.1 导入与数组创建\n",
    "- 常用别名：`import numpy as np`\n",
    "- 创建一维/二维数组：`np.array`\n",
    "- 常用初始化：`np.zeros`, `np.ones`, `np.arange`, `np.linspace`"
   ]
  },
  {
   "cell_type": "code",
   "execution_count": 1,
   "id": "04a57173",
   "metadata": {},
   "outputs": [
    {
     "name": "stdout",
     "output_type": "stream",
     "text": [
      "一维数组: [1 2 3 4]\n",
      "二维数组:\n",
      " [[1 2 3]\n",
      " [4 5 6]]\n",
      "全零:\n",
      " [[0. 0. 0.]\n",
      " [0. 0. 0.]]\n",
      "全一:\n",
      " [[1. 1. 1.]\n",
      " [1. 1. 1.]]\n",
      "arange: [0 2 4 6 8]\n",
      "linspace: [0.   0.25 0.5  0.75 1.  ]\n"
     ]
    }
   ],
   "source": [
    "import numpy as np\n",
    "\n",
    "# 一维数组\n",
    "a = np.array([1, 2, 3, 4])\n",
    "print('一维数组:', a)\n",
    "\n",
    "# 二维数组\n",
    "b = np.array([[1, 2, 3], [4, 5, 6]])\n",
    "print('二维数组:\\n', b)\n",
    "\n",
    "# 全零/全一数组\n",
    "z = np.zeros((2, 3))\n",
    "o = np.ones((2, 3))\n",
    "print('全零:\\n', z)\n",
    "print('全一:\\n', o)\n",
    "\n",
    "# 等差数组\n",
    "ar = np.arange(0, 10, 2)  # 步长为2\n",
    "print('arange:', ar)\n",
    "\n",
    "# 等间隔数组\n",
    "lin = np.linspace(0, 1, 5)  # 5个点，含头尾\n",
    "print('linspace:', lin)"
   ]
  },
  {
   "cell_type": "markdown",
   "id": "bd4788e0",
   "metadata": {},
   "source": [
    "### 0.2 数组属性与形状\n",
    "- `shape`：数组的维度\n",
    "- `dtype`：元素类型\n",
    "- `ndim`：维度数"
   ]
  },
  {
   "cell_type": "code",
   "execution_count": 2,
   "id": "76a1a137",
   "metadata": {},
   "outputs": [
    {
     "name": "stdout",
     "output_type": "stream",
     "text": [
      "b.shape = (2, 3)\n",
      "b.dtype = int32\n",
      "b.ndim = 2\n"
     ]
    }
   ],
   "source": [
    "print('b.shape =', b.shape)\n",
    "print('b.dtype =', b.dtype)\n",
    "print('b.ndim =', b.ndim)"
   ]
  },
  {
   "cell_type": "markdown",
   "id": "c95d2e8a",
   "metadata": {},
   "source": [
    "### 0.3 索引与切片\n",
    "- 与 Python 列表类似，支持切片、步长\n",
    "- 多维数组用逗号分隔索引"
   ]
  },
  {
   "cell_type": "code",
   "execution_count": 3,
   "id": "9a3418db",
   "metadata": {},
   "outputs": [
    {
     "name": "stdout",
     "output_type": "stream",
     "text": [
      "a[1:3] = [2 3]\n",
      "b[0, 1] = 2\n",
      "b[1, :] = [4 5 6]\n"
     ]
    }
   ],
   "source": [
    "# 一维切片\n",
    "print('a[1:3] =', a[1:3])\n",
    "\n",
    "# 二维索引\n",
    "print('b[0, 1] =', b[0, 1])\n",
    "print('b[1, :] =', b[1, :])"
   ]
  },
  {
   "cell_type": "markdown",
   "id": "2a52b400",
   "metadata": {},
   "source": [
    "### 0.4 基础运算与广播\n",
    "- 支持数组间和标量的加减乘除\n",
    "- 广播：不同形状自动扩展参与运算"
   ]
  },
  {
   "cell_type": "code",
   "execution_count": 4,
   "id": "eadeb196",
   "metadata": {},
   "outputs": [
    {
     "name": "stdout",
     "output_type": "stream",
     "text": [
      "a + 10 = [11 12 13 14]\n",
      "a * 2 = [2 4 6 8]\n",
      "a + [10, 20, 30, 40] = [11 22 33 44]\n",
      "b + 1 =\n",
      " [[2 3 4]\n",
      " [5 6 7]]\n"
     ]
    }
   ],
   "source": [
    "print('a + 10 =', a + 10)\n",
    "print('a * 2 =', a * 2)\n",
    "print('a + [10, 20, 30, 40] =', a + np.array([10, 20, 30, 40]))\n",
    "\n",
    "# 二维广播\n",
    "print('b + 1 =\\n', b + 1)"
   ]
  },
  {
   "cell_type": "markdown",
   "id": "3ea8dbdd",
   "metadata": {},
   "source": [
    "### 0.5 常用统计与逻辑运算\n",
    "- 求和/均值/最大值：`sum`, `mean`, `max`\n",
    "- 布尔过滤：`a[a > 2]`"
   ]
  },
  {
   "cell_type": "code",
   "execution_count": 5,
   "id": "1d808ea0",
   "metadata": {},
   "outputs": [
    {
     "name": "stdout",
     "output_type": "stream",
     "text": [
      "a.sum() = 10\n",
      "a.mean() = 2.5\n",
      "a.max() = 4\n",
      "a > 2: [False False  True  True]\n",
      "a[a > 2] = [3 4]\n"
     ]
    }
   ],
   "source": [
    "print('a.sum() =', a.sum())\n",
    "print('a.mean() =', a.mean())\n",
    "print('a.max() =', a.max())\n",
    "\n",
    "# 布尔过滤\n",
    "print('a > 2:', a > 2)\n",
    "print('a[a > 2] =', a[a > 2])"
   ]
  },
  {
   "cell_type": "markdown",
   "id": "f0bcf144",
   "metadata": {},
   "source": [
    "## 1. 为什么需要 pandas?\n",
    "昨天我们用 list + dict 组织了一个简易表格。问题：\n",
    "- 代码遍历冗长，容易出错\n",
    "- 统计 / 筛选 / 排序需要自己写循环\n",
    "\n",
    "pandas 提供：\n",
    "- 更直观的表格结构 (DataFrame)\n",
    "- 一行代码完成常见统计\n",
    "- 自动对齐、处理缺失值机制\n",
    "- 读取/导出多种格式 (CSV, Excel, JSON...)\n",
    "\n",
    "一句话：**让数据整理 + 分析更高效**。"
   ]
  },
  {
   "cell_type": "markdown",
   "id": "7f7f467a",
   "metadata": {},
   "source": [
    "## 2. Series 与 DataFrame 概念 & 快速创建\n",
    "- Series：一列数据 + 索引 (带标签的一维数组)。\n",
    "- DataFrame：多列组成的二维表 (共享行索引)。\n",
    "\n",
    "下面通过字典与列表快速创建。"
   ]
  },
  {
   "cell_type": "code",
   "execution_count": 6,
   "id": "832e6f33",
   "metadata": {},
   "outputs": [
    {
     "ename": "SyntaxError",
     "evalue": "unterminated string literal (detected at line 15) (3033578613.py, line 15)",
     "output_type": "error",
     "traceback": [
      "\u001b[1;36m  Cell \u001b[1;32mIn[6], line 15\u001b[1;36m\u001b[0m\n\u001b[1;33m    print('\u001b[0m\n\u001b[1;37m          ^\u001b[0m\n\u001b[1;31mSyntaxError\u001b[0m\u001b[1;31m:\u001b[0m unterminated string literal (detected at line 15)\n"
     ]
    }
   ],
   "source": [
    "import pandas as pd  # 通常约定写法\n",
    "\n",
    "# 创建一个 Series\n",
    "s = pd.Series([10, 20, 30], name='示例列')\n",
    "print('Series:')\n",
    "print(s)\n",
    "print('索引 index:', s.index)\n",
    "\n",
    "# 创建一个 DataFrame (字典 key=列名, value=列表)\n",
    "data = {\n",
    "    '城市': ['广州', '深圳', '佛山'],\n",
    "    'PM25': [42, 35, 50]\n",
    "}\n",
    "df_small = pd.DataFrame(data)\n",
    "print('\n",
    "DataFrame:')\n",
    "print(df_small)\n",
    "print('列名 columns:', df_small.columns)"
   ]
  },
  {
   "cell_type": "code",
   "execution_count": null,
   "id": "7532b1c7",
   "metadata": {},
   "outputs": [],
   "source": [
    "# DataFrame 还可以从“列表 + 字典”结构构建：\n",
    "records = [\n",
    "    {'城市': '广州', 'PM25': 42},\n",
    "    {'城市': '深圳', 'PM25': 35},\n",
    "    {'城市': '佛山', 'PM25': 50}\n",
    "]\n",
    "df_from_records = pd.DataFrame(records)\n",
    "df_from_records"
   ]
  },
  {
   "cell_type": "markdown",
   "id": "8d10f0c4",
   "metadata": {},
   "source": [
    "## 3. 读取 CSV 并初步查看数据\n",
    "我们使用提供的 `air_quality_simple.csv`。步骤：\n",
    "1. read_csv 读取\n",
    "2. head() 查看前几行\n",
    "3. info() 了解列与数据类型\n",
    "4. shape / dtypes 查看形状与类型"
   ]
  },
  {
   "cell_type": "code",
   "execution_count": null,
   "id": "f7a6865c",
   "metadata": {},
   "outputs": [],
   "source": [
    "# 读取数据 (路径相对于项目根目录)\n",
    "air = pd.read_csv('../data/air_quality_simple.csv')\n",
    "# 查看前 5 行\n",
    "air.head()"
   ]
  },
  {
   "cell_type": "code",
   "execution_count": null,
   "id": "cc40d3f7",
   "metadata": {},
   "outputs": [],
   "source": [
    "# 数据概况\n",
    "print('形状 shape =', air.shape)  # (行数, 列数)\n",
    "print('\n",
    "列类型 dtypes:')\n",
    "print(air.dtypes)\n",
    "print('\n",
    "info():')\n",
    "print(air.info())  # info 自带输出返回 None"
   ]
  },
  {
   "cell_type": "markdown",
   "id": "fc2c3f12",
   "metadata": {},
   "source": [
    "### 小练习 1 (自己动手)\n",
    "1. 使用 head(3) 只看前三行。\n",
    "2. 使用 tail(2) 查看最后两行。\n",
    "3. 观察哪几列是数值型。\n",
    "\n",
    "(自行在下方新建单元格)"
   ]
  },
  {
   "cell_type": "markdown",
   "id": "d0908dd0",
   "metadata": {},
   "source": [
    "## 4. 列 / 行 选取与切片\n",
    "常用方式：\n",
    "- 取单列：df['列名'] (得到 Series)\n",
    "- 取多列：df[['列1','列2']]\n",
    "- 行定位：iloc 按位置 / loc 按标签 (我们当前行标签是默认 0,1,2,...)\n",
    "- 切片：df.iloc[行起:行止]  类似 Python 列表切片 (不含行止)"
   ]
  },
  {
   "cell_type": "code",
   "execution_count": null,
   "id": "25eaebfe",
   "metadata": {},
   "outputs": [],
   "source": [
    "# 取单列 (Series)\n",
    "pm25 = air['PM25']\n",
    "print('PM2.5 列前 5 个值:', pm25.head().tolist())\n",
    "\n",
    "# 取多列 (仍是 DataFrame)\n",
    "subset = air[['city', 'PM25', 'PM10']]\n",
    "subset.head(3)"
   ]
  },
  {
   "cell_type": "code",
   "execution_count": null,
   "id": "cb1de790",
   "metadata": {},
   "outputs": [],
   "source": [
    "# 行选取：第 0 行、第 0~2 行、特定行集合\n",
    "row0 = air.iloc[0]  # 第一行 Series\n",
    "print('第一行 city =', row0['city'])\n",
    "\n",
    "rows_0_3 = air.iloc[0:3]  # 0,1,2 行\n",
    "rows_0_3"
   ]
  },
  {
   "cell_type": "code",
   "execution_count": null,
   "id": "82ad2c99",
   "metadata": {},
   "outputs": [],
   "source": [
    "# 同时选行列：iloc[行切片, 列切片] 例如前 3 行 + 前 3 列\n",
    "air.iloc[0:3, 0:3]"
   ]
  },
  {
   "cell_type": "markdown",
   "id": "04cae9d3",
   "metadata": {},
   "source": [
    "### 小练习 2\n",
    "1. 取出第 5~7 行的 city 与 PM10 列。\n",
    "2. 只取 province 列组成一个 Series 并查看唯一值 (unique)。\n",
    "3. 统计每个 province 出现次数 (使用 value_counts)。"
   ]
  },
  {
   "cell_type": "markdown",
   "id": "8a5c6d41",
   "metadata": {},
   "source": [
    "## 5. 新增列（单位换算示例）\n",
    "需求：假设 PM2.5 当前单位是 μg/m³，我们想换算成 mg/m³ (只为演示，实际意义不一定常用)。\n",
    "换算：1 mg = 1000 μg，因此 mg_value = 原值 / 1000。"
   ]
  },
  {
   "cell_type": "code",
   "execution_count": null,
   "id": "ee1ce2ba",
   "metadata": {},
   "outputs": [],
   "source": [
    "# 新增列：PM25_mg\n",
    "air['PM25_mg'] = air['PM25'] / 1000\n",
    "air[['city', 'PM25', 'PM25_mg']].head()"
   ]
  },
  {
   "cell_type": "markdown",
   "id": "7c66a44f",
   "metadata": {},
   "source": [
    "### 补充：覆盖与删除列\n",
    "- 直接再次赋值可覆盖：air['PM25_mg'] = ...\n",
    "- 删除列：del air['PM25_mg'] 或 air.drop(columns=['PM25_mg'], inplace=True)\n",
    "(本课不强制要求掌握 inplace 细节，知道结果即可)。"
   ]
  },
  {
   "cell_type": "markdown",
   "id": "79bdd995",
   "metadata": {},
   "source": [
    "## 6. 基础统计 (mean / max / value_counts)\n",
    "常用：\n",
    "- 平均值 mean()\n",
    "- 最大/最小 max() / min()\n",
    "- 排序 sort_values()\n",
    "- 分类频次 value_counts() (Series 方法)\n",
    "\n",
    "我们来做：1) PM2.5 平均值 2) PM10 最大值对应城市 3) 各省份出现次数。"
   ]
  },
  {
   "cell_type": "code",
   "execution_count": null,
   "id": "c68b74e4",
   "metadata": {},
   "outputs": [],
   "source": [
    "pm25_mean = air['PM25'].mean()\n",
    "print('PM2.5 平均值 =', round(pm25_mean, 2))\n",
    "\n",
    "# PM10 最大值与对应行\n",
    "pm10_max = air['PM10'].max()\n",
    "row_pm10_max = air[air['PM10'] == pm10_max]  # 布尔过滤\n",
    "print('PM10 最大值 =', pm10_max)\n",
    "print('对应城市:')\n",
    "print(row_pm10_max[['city', 'PM10']])\n",
    "\n",
    "# 省份计数\n",
    "province_counts = air['province'].value_counts()\n",
    "province_counts"
   ]
  },
  {
   "cell_type": "markdown",
   "id": "c8e79702",
   "metadata": {},
   "source": [
    "### 小练习 3\n",
    "1. 计算 NO2 的平均值与最大值。\n",
    "2. 按 PM25 排序取出前 5 行 (sort_values)。\n",
    "3. 计算 PM2.5 与 PM10 的差 (PM10 - PM25) 新增为一列。"
   ]
  },
  {
   "cell_type": "markdown",
   "id": "5fd68b8e",
   "metadata": {},
   "source": [
    "## 7. Mini Case：找出 PM2.5 均值最高的 3 个城市\n",
    "需求：输出城市名称与对应 PM2.5 值。\n",
    "步骤：\n",
    "1. 按 PM25 降序排序\n",
    "2. 取前 3 行\n",
    "3. 只保留 city / PM25 列展示"
   ]
  },
  {
   "cell_type": "code",
   "execution_count": null,
   "id": "2b51d127",
   "metadata": {},
   "outputs": [],
   "source": [
    "top3 = air.sort_values(by='PM25', ascending=False).head(3)[['city', 'PM25']]\n",
    "top3"
   ]
  },
  {
   "cell_type": "markdown",
   "id": "e5a9da54",
   "metadata": {},
   "source": [
    "拓展思考：如果以后有日期列，我们可以先 groupby 按城市求平均再排序。今天先不展开。"
   ]
  },
  {
   "cell_type": "markdown",
   "id": "b3310e95",
   "metadata": {},
   "source": [
    "## 8. 课后作业提示\n",
    "请新建 *homework_day2.ipynb* 完成：\n",
    "1. 自己创建一个 “学习打卡” CSV（列：day,hours,activity），至少 7 行。\n",
    "2. 用 read_csv 读入后：\n",
    "   - 查看 head 与 info\n",
    "   - 新增列：hours_minutes = hours * 60\n",
    "   - 计算总学习时长与平均每天学习时长\n",
    "   - 找出学习时长最长那天 (排序或 idxmax)\n",
    "3. 写 80 字：分析你在哪些天效率更高，是否存在偏科 (某 activity 占比很高)。\n",
    "4. 额外加分 (可选)：value_counts(normalize=True) 统计各 activity 占比。\n",
    "\n",
    "提交要求：保证运行顺序从上到下不会报错，标注每一步标题。"
   ]
  },
  {
   "cell_type": "markdown",
   "id": "7649cb92",
   "metadata": {},
   "source": [
    "---\n",
    "📌 提示：Day 3 将进入数据清洗 (缺失/重复/类型转换)。今天的练习请务必熟悉列选取与排序，否则后面会累积困难。"
   ]
  },
  {
   "cell_type": "markdown",
   "id": "1e9a06ac",
   "metadata": {},
   "source": [
    "## 8. 小结\n",
    "今日回顾：\n",
    "1. 理解 pandas 两大核心结构：Series（一列）与 DataFrame（二维表）。\n",
    "2. 读写与初探：read_csv / head / info / dtypes / shape。\n",
    "3. 选取：单列、多列、iloc/loc、切片与布尔过滤雏形。\n",
    "4. 新增列：直接赋值；单位换算示例加深“列=向量”概念。\n",
    "5. 基础统计：mean / max / value_counts / sort_values 支撑快速洞察。\n",
    "6. Mini Case 体现“排序→取前N→选列”组合思路。\n",
    "\n",
    "方法提醒：始终先“查看(head/info)”再“操作”，确保对数据结构心里有数。\n",
    "下一步衔接：熟悉这些基本操作后，Day 3 才能高效定位并处理缺失与重复。"
   ]
  },
  {
   "cell_type": "code",
   "execution_count": null,
   "id": "d820bb1d",
   "metadata": {},
   "outputs": [],
   "source": [
    "# 进阶/易错示例集合\n",
    "import pandas as pd\n",
    "air = pd.read_csv('../data/air_quality_simple.csv')\n",
    "\n",
    "# 1. 链式赋值警示示例（演示，不一定触发）：\n",
    "tmp = air[air['PM25'] > 40]\n",
    "# 正确：copy 再操作\n",
    "tmp2 = air[air['PM25'] > 40].copy()\n",
    "tmp2['PM25_mg'] = tmp2['PM25'] / 1000\n",
    "\n",
    "# 2. query 用法：\n",
    "high_pm = air.query('PM25 > 55 or PM10 > 80')[['city','PM25','PM10']].head()\n",
    "print('query 结果示例:\\n', high_pm)\n",
    "\n",
    "# 3. 多列排序：\n",
    "sorted_multi = air.sort_values(['PM25','PM10'], ascending=[False, True]).head()\n",
    "print('多列排序:\\n', sorted_multi[['city','PM25','PM10']])\n",
    "\n",
    "# 4. rename + assign + 计算差值：\n",
    "air2 = (air.rename(columns={'PM25':'PM25_val'})\n",
    "         .assign(PM_diff=lambda d: d['PM10'] - d['PM25_val']))\n",
    "print(air2[['city','PM25_val','PM10','PM_diff']].head())\n",
    "\n",
    "# 5. 分组占比：\n",
    "province_pct = air['province'].value_counts(normalize=True).round(3)\n",
    "print('省份占比:\\n', province_pct)"
   ]
  },
  {
   "cell_type": "markdown",
   "id": "f05344a2",
   "metadata": {},
   "source": [
    "### 常见易错点与进阶示例 (阅读 + 练习)\n",
    "1. 复制 vs 视图：链式写法可能触发 SettingWithCopyWarning，应显式使用 .copy()。\n",
    "2. 布尔过滤组合：用括号包裹条件；可使用 query 简化语法。\n",
    "3. 频次占比：value_counts(normalize=True) 返回比例。\n",
    "4. 多列排序：sort_values(['PM25','PM10'], ascending=[False, True])。\n",
    "5. 重命名：rename(columns={'PM25':'PM25_val'})；批量可用字典。\n",
    "6. 索引设置：set_index('city') 便于基于标签选择，reset_index() 还原。\n",
    "7. assign 链式新增：df.assign(PM_diff=lambda d: d.PM10-d.PM25)。\n",
    "8. 选择列模式：显式列清单 columns_keep = [...] 再 df[columns_keep]，利于保持稳定。\n",
    "9. 分组再排序：groupby('province')['PM25'].mean().sort_values(ascending=False)\n",
    "10. 内存/类型优化：数值整型不含缺失可转为更小类型 (astype('int32')) (了解即可)。"
   ]
  }
 ],
 "metadata": {
  "kernelspec": {
   "display_name": "base",
   "language": "python",
   "name": "python3"
  },
  "language_info": {
   "codemirror_mode": {
    "name": "ipython",
    "version": 3
   },
   "file_extension": ".py",
   "mimetype": "text/x-python",
   "name": "python",
   "nbconvert_exporter": "python",
   "pygments_lexer": "ipython3",
   "version": "3.12.7"
  }
 },
 "nbformat": 4,
 "nbformat_minor": 5
}
