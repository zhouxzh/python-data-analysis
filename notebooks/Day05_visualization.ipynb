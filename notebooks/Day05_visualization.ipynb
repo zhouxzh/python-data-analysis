{
 "cells": [
  {
   "cell_type": "markdown",
   "id": "4d7649cf",
   "metadata": {},
   "source": [
    "# Day 5：基础可视化（表达与比较）\n",
    "\n",
    "> 今日目标：掌握折线、柱状、条形、散点、直方图及 2×2 子图布局；能为图表添加标题、轴标签、图例、来源说明，写出 1~2 句解读。\n",
    "\n",
    "学习路径：\n",
    "1. 准备数据 & 为什么先学 matplotlib\n",
    "2. 折线图（趋势）\n",
    "3. 柱状 / 条形图（比较）\n",
    "4. 散点图（关系）\n",
    "5. 直方图（分布）\n",
    "6. 2×2 子图面板 (监测面板)\n",
    "7. 可视化基本美化 Checklist\n",
    "8. Mini Case：构建空气质量监测面板\n",
    "9. 小结\n",
    "10. 课后作业提示"
   ]
  },
  {
   "cell_type": "markdown",
   "id": "534f4e2b",
   "metadata": {},
   "source": [
    "## 1. 准备数据 & 为什么先学 matplotlib\n",
    "数据：沿用 Day 4 的 `air_quality_timeseries.csv`。\n",
    "\n",
    "为什么先学 matplotlib：\n",
    "- 底层：很多高级库（seaborn）是它的封装。\n",
    "- 控制力强：标题、颜色、刻度、子图布局都可精调。\n",
    "\n",
    "常用导入约定：`import matplotlib.pyplot as plt`。\n",
    "Jupyter 中显示：只要执行生成图的代码单元即可（不必再写 %matplotlib inline，现代 Jupyter 默认开启）。"
   ]
  },
  {
   "cell_type": "code",
   "execution_count": null,
   "id": "b996ce19",
   "metadata": {},
   "outputs": [],
   "source": [
    "import pandas as pd\n",
    "import matplotlib.pyplot as plt\n",
    "\n",
    "df = pd.read_csv('../data/air_quality_timeseries.csv', parse_dates=['date'])\n",
    "df.head()"
   ]
  },
  {
   "cell_type": "markdown",
   "id": "39b91cc6",
   "metadata": {},
   "source": [
    "为了方便绘制城市趋势，先挑几个城市：广州 / 北京 / 上海。"
   ]
  },
  {
   "cell_type": "code",
   "execution_count": null,
   "id": "8a241890",
   "metadata": {},
   "outputs": [],
   "source": [
    "cities = ['广州','北京','上海']\n",
    "df_sub = df[df['city'].isin(cities)]\n",
    "df_sub.head()"
   ]
  },
  {
   "cell_type": "markdown",
   "id": "faaa5249",
   "metadata": {},
   "source": [
    "## 2. 折线图（展示时间趋势）\n",
    "适合：时间序列变化。\n",
    "步骤：过滤 → 按日期排序 → plot。"
   ]
  },
  {
   "cell_type": "code",
   "execution_count": null,
   "id": "22769333",
   "metadata": {},
   "outputs": [],
   "source": [
    "# 单城市折线\n",
    "gz = df[df['city']=='广州'].sort_values('date')\n",
    "plt.figure(figsize=(6,4))\n",
    "plt.plot(gz['date'], gz['PM25'], marker='o')\n",
    "plt.title('广州 5 天 PM2.5 趋势')\n",
    "plt.xlabel('日期')\n",
    "plt.ylabel('PM2.5 (μg/m³)')\n",
    "plt.grid(alpha=0.3)\n",
    "plt.tight_layout()\n",
    "plt.show()"
   ]
  },
  {
   "cell_type": "code",
   "execution_count": null,
   "id": "8a7df161",
   "metadata": {},
   "outputs": [],
   "source": [
    "# 多城市同图比较：循环绘制\n",
    "plt.figure(figsize=(7,4))\n",
    "for c in cities:\n",
    "    tmp = df[df['city']==c].sort_values('date')\n",
    "    plt.plot(tmp['date'], tmp['PM25'], marker='o', label=c)\n",
    "plt.title('多城市 PM2.5 趋势对比')\n",
    "plt.xlabel('日期')\n",
    "plt.ylabel('PM2.5 (μg/m³)')\n",
    "plt.legend()\n",
    "plt.grid(alpha=0.3)\n",
    "plt.tight_layout()\n",
    "plt.show()"
   ]
  },
  {
   "cell_type": "markdown",
   "id": "bb7d4474",
   "metadata": {},
   "source": [
    "### 小练习 1\n",
    "1. 把上面多城市图中的 marker 改成 's' (方形)。\n",
    "2. 去掉网格线，观察视觉差异。\n",
    "3. 尝试只显示北京和上海。"
   ]
  },
  {
   "cell_type": "markdown",
   "id": "bb2ddf49",
   "metadata": {},
   "source": [
    "## 3. 柱状图（比较）\n",
    "适合：类别之间比较。\n",
    "展示：不同城市的 PM25 平均值。"
   ]
  },
  {
   "cell_type": "code",
   "execution_count": null,
   "id": "419ffb34",
   "metadata": {},
   "outputs": [],
   "source": [
    "city_mean = df.groupby('city')['PM25'].mean().sort_values(ascending=False)\n",
    "plt.figure(figsize=(6,4))\n",
    "plt.bar(city_mean.index, city_mean.values, color='#4C72B0')\n",
    "plt.title('各城市 5 天 PM2.5 平均值')\n",
    "plt.ylabel('PM2.5 平均 (μg/m³)')\n",
    "plt.xticks(rotation=30)\n",
    "# 在柱顶加数值标签\n",
    "for x, y in enumerate(city_mean.values):\n",
    "    plt.text(x, y+0.5, f'{y:.1f}', ha='center', va='bottom', fontsize=9)\n",
    "plt.tight_layout()\n",
    "plt.show()"
   ]
  },
  {
   "cell_type": "markdown",
   "id": "4f978985",
   "metadata": {},
   "source": [
    "也可以画水平条形图 (当城市名称很多更易读)。"
   ]
  },
  {
   "cell_type": "code",
   "execution_count": null,
   "id": "9eb6f2ac",
   "metadata": {},
   "outputs": [],
   "source": [
    "plt.figure(figsize=(6,4))\n",
    "plt.barh(city_mean.index, city_mean.values, color='#55A868')\n",
    "plt.title('各城市 5 天 PM2.5 平均值 (水平条形)')\n",
    "plt.xlabel('PM2.5 平均 (μg/m³)')\n",
    "for y, v in enumerate(city_mean.values):\n",
    "    plt.text(v+0.3, y, f'{v:.1f}', va='center')\n",
    "plt.tight_layout()\n",
    "plt.show()"
   ]
  },
  {
   "cell_type": "markdown",
   "id": "c42c67f1",
   "metadata": {},
   "source": [
    "### 小练习 2\n",
    "1. 将颜色改成自定义列表，例如 ['#d62728','#1f77b4',...]。\n",
    "2. 只画出 PM25 平均值最高的前 5 个城市。"
   ]
  },
  {
   "cell_type": "markdown",
   "id": "243625e6",
   "metadata": {},
   "source": [
    "## 4. 散点图（关系）\n",
    "适合：两个数值变量关系 (相关趋势/聚集/异常)。\n",
    "示例：PM25 vs PM10。"
   ]
  },
  {
   "cell_type": "code",
   "execution_count": null,
   "id": "94a321bd",
   "metadata": {},
   "outputs": [],
   "source": [
    "plt.figure(figsize=(6,4))\n",
    "plt.scatter(df['PM25'], df['PM10'], alpha=0.7, edgecolor='k')\n",
    "plt.title('PM25 vs PM10')\n",
    "plt.xlabel('PM25 (μg/m³)')\n",
    "plt.ylabel('PM10 (μg/m³)')\n",
    "plt.grid(alpha=0.25)\n",
    "plt.tight_layout()\n",
    "plt.show()"
   ]
  },
  {
   "cell_type": "markdown",
   "id": "0d75f944",
   "metadata": {},
   "source": [
    "按城市上色：为每个点添加颜色标签。"
   ]
  },
  {
   "cell_type": "code",
   "execution_count": null,
   "id": "60b2e2a2",
   "metadata": {},
   "outputs": [],
   "source": [
    "import itertools\n",
    "colors = itertools.cycle(['#4C72B0','#DD8452','#55A868','#C44E52','#8172B2','#937860'])\n",
    "plt.figure(figsize=(6,4))\n",
    "for c in df['city'].unique():\n",
    "    tmp = df[df['city']==c]\n",
    "    plt.scatter(tmp['PM25'], tmp['PM10'], label=c, s=50, alpha=0.75, edgecolor='k', c=next(colors))\n",
    "plt.title('PM25 vs PM10 (按城市)')\n",
    "plt.xlabel('PM25')\n",
    "plt.ylabel('PM10')\n",
    "plt.legend(ncol=2, fontsize=8)\n",
    "plt.grid(alpha=0.25)\n",
    "plt.tight_layout()\n",
    "plt.show()"
   ]
  },
  {
   "cell_type": "markdown",
   "id": "dd9bcd57",
   "metadata": {},
   "source": [
    "### 小练习 3\n",
    "1. 改变点大小 s=80 观察效果。\n",
    "2. 设置 alpha=0.4 查看重叠情况。\n",
    "3. 思考：什么情况下适合散点图换成气泡图 (第三个变量控制大小)。"
   ]
  },
  {
   "cell_type": "markdown",
   "id": "36b409ff",
   "metadata": {},
   "source": [
    "## 5. 直方图（分布）\n",
    "展示数据在不同区间的频次。示例：所有城市 PM25 分布。"
   ]
  },
  {
   "cell_type": "code",
   "execution_count": null,
   "id": "ba0e2b8b",
   "metadata": {},
   "outputs": [],
   "source": [
    "plt.figure(figsize=(6,4))\n",
    "plt.hist(df['PM25'], bins=8, color='#1f77b4', edgecolor='white')\n",
    "plt.title('PM25 分布 (所有城市5天)')\n",
    "plt.xlabel('PM25 (μg/m³)')\n",
    "plt.ylabel('频次')\n",
    "plt.grid(alpha=0.2)\n",
    "plt.tight_layout()\n",
    "plt.show()"
   ]
  },
  {
   "cell_type": "markdown",
   "id": "7953ccba",
   "metadata": {},
   "source": [
    "对比分布：可以按城市分别画（今天不要求全部掌握，可尝试）。"
   ]
  },
  {
   "cell_type": "markdown",
   "id": "54c5c7e2",
   "metadata": {},
   "source": [
    "### 小练习 4\n",
    "1. 改 bins=5 和 bins=12 比较分辨率变化。\n",
    "2. 尝试给直方图加上透明度 alpha=0.7。"
   ]
  },
  {
   "cell_type": "markdown",
   "id": "3ceb7d8c",
   "metadata": {},
   "source": [
    "## 6. 2×2 子图面板 (监测面板)\n",
    "使用 plt.subplots(rows, cols, figsize=(w,h))。返回 fig, axes。\n",
    "示例：面板包含：\n",
    "(1) 广州 PM25 折线\n",
    "(2) 城市 PM25 平均柱状\n",
    "(3) PM25 vs PM10 散点\n",
    "(4) PM25 直方图"
   ]
  },
  {
   "cell_type": "code",
   "execution_count": null,
   "id": "a8b19e5c",
   "metadata": {},
   "outputs": [],
   "source": [
    "fig, axes = plt.subplots(2, 2, figsize=(10,7))\n",
    "# (1) 折线\n",
    "ax = axes[0,0]\n",
    "tmp = df[df['city']=='广州'].sort_values('date')\n",
    "ax.plot(tmp['date'], tmp['PM25'], marker='o')\n",
    "ax.set_title('广州 PM25 趋势')\n",
    "ax.set_ylabel('PM25')\n",
    "# (2) 柱状\n",
    "ax = axes[0,1]\n",
    "ax.bar(city_mean.index, city_mean.values, color='#4C72B0')\n",
    "ax.set_title('城市 PM25 平均值')\n",
    "ax.tick_params(axis='x', rotation=30)\n",
    "# (3) 散点\n",
    "ax = axes[1,0]\n",
    "ax.scatter(df['PM25'], df['PM10'], alpha=0.7, edgecolor='k', s=40)\n",
    "ax.set_title('PM25 vs PM10')\n",
    "ax.set_xlabel('PM25')\n",
    "ax.set_ylabel('PM10')\n",
    "# (4) 直方\n",
    "ax = axes[1,1]\n",
    "ax.hist(df['PM25'], bins=8, color='#DD8452', edgecolor='white')\n",
    "ax.set_title('PM25 分布')\n",
    "plt.suptitle('空气质量监测面板 (示例)', fontsize=14)\n",
    "plt.tight_layout(rect=[0,0,1,0.97])\n",
    "plt.show()"
   ]
  },
  {
   "cell_type": "markdown",
   "id": "1742e9d9",
   "metadata": {},
   "source": [
    "### 小练习 5\n",
    "1. 把 (1) 图改成北京。\n",
    "2. 给 (3) 散点图添加网格。\n",
    "3. 修改总标题字体大小为 16。"
   ]
  },
  {
   "cell_type": "markdown",
   "id": "aae5008e",
   "metadata": {},
   "source": [
    "## 7. 可视化基本美化 Checklist\n",
    "| 项 | 检查点 |\n",
    "|----|--------|\n",
    "| 标题 | 概括主要信息 |\n",
    "| 轴标签 | 单位是否注明 |\n",
    "| 刻度 | 是否重叠 / 是否需要旋转 |\n",
    "| 颜色 | 不要过多 (≤6)，对比清晰 |\n",
    "| 图例 | 放置不遮挡数据 |\n",
    "| 网格 | 轻微 (alpha 小) 辅助阅读 |\n",
    "| 数据标注 | 必要时标记关键值 |\n",
    "| 来源 | 数据来源 / 时间范围 |\n",
    "| 解读 | 1~2 句文字说明核心发现 |"
   ]
  },
  {
   "cell_type": "markdown",
   "id": "4d2788fd",
   "metadata": {},
   "source": [
    "## 8. Mini Case：构建自己的面板\n",
    "任务：制作一个 2×2 面板 (或 1×3, 2×3)，包含：\n",
    "1. 任意城市 PM25 时间趋势\n",
    "2. 城市 PM25 平均值比较 (柱状)\n",
    "3. PM25 vs PM10 散点\n",
    "4. PM25 分布 (直方)\n",
    "并：\n",
    "- 添加总标题 + 数据来源 (可用注释或 fig.text)\n",
    "- 对其中 1 张图添加文字标注 annotate 说明最高值\n",
    "- 写出 2 句解释：一条关于趋势，一条关于比较或关系。\n",
    "\n",
    "(请在下方新建单元格自行完成)"
   ]
  },
  {
   "cell_type": "markdown",
   "id": "5a419416",
   "metadata": {},
   "source": [
    "## 9. 小结\n",
    "- 图表选择匹配信息类型：折线=趋势；柱状/条形=类别比较；散点=关系；直方=分布；面板=多视角集成。\n",
    "- 基础规范：标题/轴标签/单位/图例/适度网格/必要数据标注/来源。\n",
    "- 颜色与布局重在“清晰”与“少即是多”。\n",
    "- 解读文字需说明：现象 + 对比/趋势 + 可能含义（避免过度推断）。\n",
    "\n",
    "实践提示：先草稿（手画信息层次），再编码绘制；养成复用代码片段的习惯（如统一样式函数）。\n",
    "后续衔接：规范可视化输出将直接提升 Day 6 mini 项目表达质量。"
   ]
  },
  {
   "cell_type": "code",
   "execution_count": null,
   "id": "232fc7a8",
   "metadata": {},
   "outputs": [],
   "source": [
    "# 可视化进阶代码示例\n",
    "import pandas as pd, matplotlib.pyplot as plt\n",
    "plt.style.use('seaborn-v0_8')\n",
    "df = pd.read_csv('../data/air_quality_timeseries.csv', parse_dates=['date'])\n",
    "\n",
    "# 1. 自定义字体(若环境支持)——示意：\n",
    "# import matplotlib; matplotlib.rcParams['font.family']='SimHei'\n",
    "# matplotlib.rcParams['axes.unicode_minus']=False\n",
    "\n",
    "# 2. 标注峰值\n",
    "city_series = df[df['city']=='广州'].sort_values('date')\n",
    "xmax_row = city_series.loc[city_series['PM25'].idxmax()]\n",
    "plt.figure(figsize=(6,4))\n",
    "plt.plot(city_series['date'], city_series['PM25'], marker='o')\n",
    "plt.title('广州 PM2.5 趋势 (标注峰值)')\n",
    "plt.xlabel('日期'); plt.ylabel('PM2.5')\n",
    "plt.annotate('峰值', xy=(xmax_row['date'], xmax_row['PM25']), xytext=(xmax_row['date'], xmax_row['PM25']+5), arrowprops={'arrowstyle':'->'})\n",
    "plt.tight_layout(); plt.show()\n",
    "\n",
    "# 3. 去除顶部/右侧边框\n",
    "import seaborn as sns\n",
    "city_mean = df.groupby('city')['PM25'].mean().sort_values(ascending=False).head(8)\n",
    "plt.figure(figsize=(7,4))\n",
    "ax = sns.barplot(x=city_mean.index, y=city_mean.values, color='#4C72B0')\n",
    "for spine in ['top','right']:\n",
    "    ax.spines[spine].set_visible(False)\n",
    "plt.xticks(rotation=30)\n",
    "plt.title('前 8 城市 PM2.5 平均值 (去除多余边框)')\n",
    "plt.tight_layout(); plt.show()\n",
    "\n",
    "# 4. 双轴示意（谨慎使用）\n",
    "sample = df[df['city']=='北京'].sort_values('date')\n",
    "fig, ax1 = plt.subplots(figsize=(6,4))\n",
    "ax2 = ax1.twinx()\n",
    "ax1.plot(sample['date'], sample['PM25'], color='#C44E52', marker='o', label='PM25')\n",
    "ax2.plot(sample['date'], sample['PM10'], color='#4C72B0', marker='s', label='PM10')\n",
    "ax1.set_ylabel('PM25'); ax2.set_ylabel('PM10')\n",
    "ax1.set_title('北京 PM25 vs PM10 (双轴示意)')\n",
    "fig.tight_layout(); plt.show()"
   ]
  },
  {
   "cell_type": "markdown",
   "id": "8a29e78d",
   "metadata": {},
   "source": [
    "### 可视化进阶与细节控制\n",
    "1. 统一风格：plt.style.use('seaborn-v0_8') 或自定义 rcParams。\n",
    "2. 字体/中文：plt.rcParams['font.family']='SimHei'; 避免负号乱码：rcParams['axes.unicode_minus']=False。\n",
    "3. 色板：手动构建有限调色板，强调主色 + 辅助色。\n",
    "4. 标注 annotate：ax.annotate('峰值', xy=(x,y), xytext=(x,y+5), arrowprops={'arrowstyle':'->'})。\n",
    "5. 次轴：ax2 = ax.twinx() (仅在确需双尺度且清晰标注时使用)。\n",
    "6. 子图共享轴：plt.subplots(..., sharex=True)。\n",
    "7. 图表信息密度：删除不必要边框 (ax.spines['top'].set_visible(False))。\n",
    "8. 保存输出：plt.savefig('figure.png', dpi=150, bbox_inches='tight')。\n",
    "9. 布局拥挤处理：旋转刻度 / 缩写标签 / 适度截断。\n",
    "10. 颜色语义：红=高风险 / 绿=良好，保持一致性。"
   ]
  },
  {
   "cell_type": "markdown",
   "id": "19f40c5b",
   "metadata": {},
   "source": [
    "## 10. 课后作业提示\n",
    "在 *homework_day5.ipynb*：\n",
    "1. 选 3 种不同图类型展示同一主题的不同角度 (例如：趋势+比较+关系)。\n",
    "2. 每幅图满足：标题 / 轴标签 / 单位 / (必要) 图例。\n",
    "3. 写 150 字图表说明（至少 3 条发现 + 1 条数据局限或下一步建议）。\n",
    "4. 附上数据来源说明。\n",
    "(可选) 5. 尝试用 annotate 标出异常或峰值。"
   ]
  },
  {
   "cell_type": "markdown",
   "id": "a01a4d28",
   "metadata": {},
   "source": [
    "---\n",
    "📌 提示：明天 (Day 6) 将做合并与 mini 项目，请保留计算逻辑清晰的 Notebook，便于复用。"
   ]
  }
 ],
 "metadata": {
  "language_info": {
   "name": "python"
  }
 },
 "nbformat": 4,
 "nbformat_minor": 5
}
