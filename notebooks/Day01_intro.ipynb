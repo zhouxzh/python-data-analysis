{
 "cells": [
  {
   "cell_type": "markdown",
   "id": "936ad3be",
   "metadata": {},
   "source": [
    "# Day 1：环境与 Python 基础认知 (低门槛版)\n",
    "\n",
    "> 目标：会进入 Jupyter，能写最基本 Python 语句，理解 *数据分析最小流程*：提出问题 → 获取数据 → 处理清洗 → 探索分析 → 可视化表达 → 得出结论。\n",
    "\n",
    "本 Notebook 结构：\n",
    "1. 准备与环境说明\n",
    "2. Python 基础语法最小集合\n",
    "3. 列表(list) & 字典(dict) 组织数据\n",
    "4. 用代码表示一张“同学成绩小表”\n",
    "5. 迷你案例：计算 5 名同学平均分\n",
    "6. 小结\n",
    "7. 课后作业提示\n",
    "\n",
    "> 建议边看边在右侧/下方新建空单元格自己敲一遍。敲错是学习的一部分。"
   ]
  },
  {
   "cell_type": "markdown",
   "id": "3e10abdd",
   "metadata": {},
   "source": [
    "## 1. 环境快速说明\n",
    "- 我们使用 **Anaconda** 来一键管理 Python 及常用科学计算库。\n",
    "- 使用 **Jupyter Notebook** 作为交互式实验本：一格格单元 = 思路 + 代码 + 输出。\n",
    "- 保存文件：Ctrl+S；运行单元：Shift+Enter。\n",
    "- 新建单元：上方工具栏按钮或使用快捷键 (在命令模式下 A=上方插入, B=下方插入)。\n",
    "\n",
    "### 什么时候需要重启内核 (Kernel)?\n",
    "- 变量乱了/命名冲突/长时间没清理。\n",
    "- 重启后变量会全部消失, 需要重新运行前面单元。"
   ]
  },
  {
   "cell_type": "markdown",
   "id": "6e6a3ab1",
   "metadata": {},
   "source": [
    "## 2. Python 基础语法最小集合\n",
    "下面这些足以支撑前两天学习。后面逐步加。\n",
    "\n",
    "| 功能 | 例子 | 说明 |\n",
    "|------|------|------|\n",
    "| 输出 | print('Hello') | 查看结果 |\n",
    "| 变量 | x = 10 | 变量=数据 |\n",
    "| 基本类型 | int 10 / float 3.14 / str 'hi' | 数字/小数/字符串 |\n",
    "| 容器 | list [1,2,3] / dict {'a':1} | 组织多项数据 |\n",
    "| 计算 | + - * / // % | 四则 / 整除 / 取余 |\n",
    "| 比较 | > < >= <= == != | 得到 True/False |\n",
    "| 逻辑 | and / or / not | 连接判断 |\n",
    "| 条件 | if 条件: ... else: ... | 分支执行 |\n",
    "| 循环 | for item in list: ... | 重复操作 |\n",
    "| 导入 | import math | 使用库功能 |\n",
    "\n",
    "> 记忆技巧：先理解“为什么这样写”，再记语法。多写自然会熟。"
   ]
  },
  {
   "cell_type": "markdown",
   "id": "62bc0e46",
   "metadata": {},
   "source": [
    "### 更多基础语法要点\n",
    "- 字符串格式化：f\"姓名:{name} 分数:{score}\" \n",
    "- 列表方法：append / pop / len\n",
    "- 字典方法：keys() / values() / get()（安全取值）\n",
    "- 内置函数：len / sum / max / min / round\n",
    "- 运算优先级：括号 > 乘除 > 加减\n",
    "下面追加代码示例。"
   ]
  },
  {
   "cell_type": "code",
   "execution_count": null,
   "id": "6017e6bd",
   "metadata": {},
   "outputs": [],
   "source": [
    "# 试运行：输出与变量\n",
    "message = 'Hello Data Analysis'\n",
    "year = 2025\n",
    "print(message, year)\n",
    "\n",
    "# 基本计算\n",
    "a = 12\n",
    "b = 5\n",
    "print('加法 a + b =', a + b)\n",
    "print('整除 a // b =', a // b)\n",
    "print('取余 a % b =', a % b)"
   ]
  },
  {
   "cell_type": "code",
   "execution_count": null,
   "id": "27457923",
   "metadata": {},
   "outputs": [],
   "source": [
    "# 更多语法示例\n",
    "name = '张三'\n",
    "score_chi, score_math, score_eng = 78, 85, 90\n",
    "# f-string 格式化输出\n",
    "print(f'姓名:{name} 语文:{score_chi} 数学:{score_math} 英语:{score_eng} 平均:{(score_chi+score_math+score_eng)/3:.1f}')\n",
    "\n",
    "# 列表常用方法\n",
    "nums = [3, 1, 5]\n",
    "nums.append(10)   # 末尾添加\n",
    "first = nums.pop(0) # 弹出索引 0 位置元素\n",
    "print('修改后的列表:', nums, '弹出的元素:', first)\n",
    "print('列表长度 len(nums)=', len(nums))\n",
    "print('最大值/最小值:', max(nums), min(nums))\n",
    "\n",
    "# 字典 get 安全取值\n",
    "info = {'name': '张三', 'age': 18}\n",
    "print(info.get('name'))       # 正常存在\n",
    "print(info.get('score', '无成绩键'))  # 不存在时返回默认\n",
    "\n",
    "# round 四舍五入\n",
    "pi = 3.14159\n",
    "print('保留两位小数:', round(pi, 2))"
   ]
  },
  {
   "cell_type": "code",
   "execution_count": null,
   "id": "399d5b1b",
   "metadata": {},
   "outputs": [],
   "source": [
    "# 条件与循环示例\n",
    "score = 85\n",
    "if score >= 60:\n",
    "    print('及格')\n",
    "else:\n",
    "    print('不及格')\n",
    "\n",
    "# for 循环：累加 1~5\n",
    "total = 0\n",
    "for i in [1, 2, 3, 4, 5]:\n",
    "    total = total + i  # 也可以写 total += i\n",
    "print('1~5 累加 =', total)"
   ]
  },
  {
   "cell_type": "markdown",
   "id": "d47c9df0",
   "metadata": {},
   "source": [
    "## 3. 列表(list) 与 字典(dict)\n",
    "为什么需要？因为要把多条数据放在一起。\n",
    "\n",
    "- list 有顺序，用下标访问：students[0]。\n",
    "- dict 通过“键”访问：scores['语文']。\n",
    "\n",
    "记忆：list = 有序排队；dict = 带标签的抽屉。"
   ]
  },
  {
   "cell_type": "code",
   "execution_count": null,
   "id": "4ebeeb39",
   "metadata": {},
   "outputs": [],
   "source": [
    "# 列表示例：保存 5 个学生姓名\n",
    "students = ['张三', '李四', '王五', '赵六', '周七']\n",
    "print('学生列表:', students)\n",
    "print('第一个学生:', students[0])\n",
    "\n",
    "# 字典示例：单个学生成绩\n",
    "score_zhang = {\n",
    "    'name': '张三',\n",
    "    '语文': 78,\n",
    "    '数学': 85,\n",
    "    '英语': 90\n",
    "}\n",
    "print('张三数学成绩:', score_zhang['数学'])"
   ]
  },
  {
   "cell_type": "markdown",
   "id": "9a17be17",
   "metadata": {},
   "source": [
    "## 4. 用 list + dict 组织“同学成绩小表”\n",
    "思路：一张表 = 多行；每行 = 一个字典；多行放到一个列表。\n",
    "\n",
    "字段（键）统一：name / 语文 / 数学 / 英语。\n",
    "\n",
    "后续用 pandas DataFrame 就是对这种结构的强化版本。现在先理解基本思想。"
   ]
  },
  {
   "cell_type": "code",
   "execution_count": null,
   "id": "8bd2d285",
   "metadata": {},
   "outputs": [],
   "source": [
    "# 创建成绩'表'：列表中包含多个学生记录（字典）\n",
    "grade_table = [\n",
    "    {'name': '张三', '语文': 78, '数学': 85, '英语': 90},\n",
    "    {'name': '李四', '语文': 82, '数学': 88, '英语': 76},\n",
    "    {'name': '王五', '语文': 90, '数学': 92, '英语': 89},\n",
    "    {'name': '赵六', '语文': 67, '数学': 74, '英语': 70},\n",
    "    {'name': '周七', '语文': 88, '数学': 79, '英语': 84},\n",
    "]\n",
    "\n",
    "# 查看前两个\n",
    "print('前两条记录:')\n",
    "for row in grade_table[:2]:\n",
    "    print(row)\n",
    "\n",
    "# 访问第三个学生的英语成绩\n",
    "third_english = grade_table[2]['英语']\n",
    "print('第三个学生英语成绩:', third_english)"
   ]
  },
  {
   "cell_type": "markdown",
   "id": "c9cf551d",
   "metadata": {},
   "source": [
    "## 5. Mini Case：统计 5 名同学平均分\n",
    "需求：计算每个学生的三科平均分，再计算全班总平均。\n",
    "\n",
    "拆解：\n",
    "1. 遍历每个字典 row\n",
    "2. 读取语文/数学/英语 3 个值求和除 3\n",
    "3. 保存到一个新列表或直接打印\n",
    "4. 累加所有平均分再除以学生人数\n",
    "\n",
    "提示：尽量把 \"固定写法\" 记下来，未来会在 pandas 中更简单。"
   ]
  },
  {
   "cell_type": "code",
   "execution_count": null,
   "id": "70393918",
   "metadata": {},
   "outputs": [],
   "source": [
    "# 计算每个学生个人平均分 + 全班平均分\n",
    "student_avgs = []\n",
    "for row in grade_table:\n",
    "    per_avg = (row['语文'] + row['数学'] + row['英语']) / 3\n",
    "    student_avgs.append(per_avg)\n",
    "    print(f\n",
    "\n",
    "class_avg = sum(student_avgs) / len(student_avgs)\n",
    "print('-' * 30)\n",
    "print('全班平均分:', round(class_avg, 2))"
   ]
  },
  {
   "cell_type": "code",
   "execution_count": null,
   "id": "113fb922",
   "metadata": {},
   "outputs": [],
   "source": [
    "# 函数与异常示例\n",
    "def average_three(a, b, c):\n",
    "    return (a + b + c) / 3\n",
    "\n",
    "try:\n",
    "    print('张三平均分:', average_three(78, 85, 90))\n",
    "    # 故意制造一个类型错误\n",
    "    print('错误示例:', average_three(78, '85', 90))\n",
    "except TypeError as e:\n",
    "    print('捕获到类型错误(TypeError):', e)"
   ]
  },
  {
   "cell_type": "markdown",
   "id": "06666253",
   "metadata": {},
   "source": [
    "### 函数与异常基础\n",
    "- 函数：把重复逻辑封装，提升复用与可读性。\n",
    "- 语法：def 函数名(参数): return 值\n",
    "- 异常 (Exception)：运行出错的事件；用 try/except 捕获并给出友好提示。\n",
    "- 好处：避免 Notebook 因一个可预期错误中断。\n",
    "下面演示自定义平均分函数 + 简单异常处理。"
   ]
  },
  {
   "cell_type": "markdown",
   "id": "f7750be3",
   "metadata": {},
   "source": [
    "### 练习：请你自己再做下面事情 (可在下方新建单元格)\n",
    "1. 增加一位新同学的三科成绩，再重新计算平均分。\n",
    "2. 找出平均分最高的学生姓名与分值。\n",
    "3. 统计英语 >= 80 分的学生数量。\n",
    "\n",
    "> 做完后对照：有没有重复代码？如何提取成函数？(Day 3/4 我们会继续优化)。"
   ]
  },
  {
   "cell_type": "markdown",
   "id": "af8e1315",
   "metadata": {},
   "source": [
    "## 6. 小结\n",
    "今日学习要点：\n",
    "1. 初步认识数据分析流程的六个阶段。\n",
    "2. 掌握最小 Python 语法集合：变量、条件、循环、容器。\n",
    "3. 用 list + dict 组合模拟“表格”这一核心数据结构的思想。\n",
    "4. 通过平均分 mini case 体验“拆解问题→循环→累积计算”。\n",
    "\n",
    "学习建议：多敲 + 适度复述。遇到错误先读报错行，再查关键词。\n",
    "成长视角：扎实基础、尊重数据真实、循序渐进构建可复现的分析过程。"
   ]
  },
  {
   "cell_type": "markdown",
   "id": "bd0884e1",
   "metadata": {},
   "source": [
    "## 6. 课后作业提示\n",
    "1. 写出**数据分析可应用的 3 个生活/校园场景**（每个 ≥40 字）。例如：食堂满意度、图书借阅偏好、教室使用率。\n",
    "2. 用字典记录你一周学习时间：键=星期，值=小时，例如：{ '周一': 2.5, '周二': 1.0, ... }。\n",
    "3. 计算本周总学习时长，并输出：平均每天学习多少小时。\n",
    "4. 反思：今天最卡的点是什么？写 30~50 字。\n",
    "\n",
    "(提交格式建议：一个新的 Notebook，命名：homework_day1.ipynb)"
   ]
  },
  {
   "cell_type": "markdown",
   "id": "a7d88bbd",
   "metadata": {},
   "source": [
    "---\n",
    "🎯 下一次课打开本 Notebook 先复现“平均分”代码，再继续。坚持形成自己的 \"可复现场景库\"。"
   ]
  }
 ],
 "metadata": {
  "language_info": {
   "name": "python"
  }
 },
 "nbformat": 4,
 "nbformat_minor": 5
}
