{
 "cells": [
  {
   "cell_type": "markdown",
   "id": "20ca3e28",
   "metadata": {},
   "source": [
    "# Day 7：入门级模型（概念体验，不求深）\n",
    "\n",
    "> 今日目标：理解“用特征预测标签”的基本流程；跑通 1 个线性回归 + 1 个简单分类；会看基础评估指标；知道模型局限。\n",
    "\n",
    "学习路径：\n",
    "1. 机器学习最小流程概念\n",
    "2. 准备数据与特征构造 (lag / 简单派生)\n",
    "3. 回归：预测 PM2.5 (线性回归)\n",
    "4. 分类：判断是否为高污染日 (二分类)\n",
    "5. 评估指标 (R² / MAE / Accuracy)\n",
    "6. 过拟合直观认识 & 基线对比\n",
    "7. 模型解释初步 (系数)\n",
    "8. 小结\n",
    "9. 课后作业提示"
   ]
  },
  {
   "cell_type": "markdown",
   "id": "55a36c03",
   "metadata": {},
   "source": [
    "## 1. 机器学习最小流程概念\n",
    "一句话：用历史“特征”学习一个函数 f(x)≈y，再用来预测新样本。\n",
    "\n",
    "流程 6 步：\n",
    "1. 明确任务（回归 or 分类）\n",
    "2. 准备数据（清洗 / 选取列 / 构造特征）\n",
    "3. 划分训练集 / 测试集 (train_test_split)\n",
    "4. 训练：fit\n",
    "5. 评估：在测试集上算指标\n",
    "6. 解释 & 复盘：是否有效？是否存在风险？\n",
    "\n",
    "今日我们不追求算法全面，只体验流水线。"
   ]
  },
  {
   "cell_type": "markdown",
   "id": "047331ab",
   "metadata": {},
   "source": [
    "## 2. 准备数据与特征\n",
    "使用 Day 4/5 的 `air_quality_timeseries.csv`。我们构造：\n",
    "- 特征：同日 PM10 / NO2 / SO2 + 前一日 PM25 (lag1)\n",
    "- 目标 (回归)：当日 PM25\n",
    "- 目标 (分类)：高污染标签 high_flag (PM25 > 55 记为 1) (阈值仅演示)\n",
    "\n",
    "Lag 处理：按 city + date 排序，向下平移 1 行。首行会缺失 → 丢弃。"
   ]
  },
  {
   "cell_type": "code",
   "execution_count": 1,
   "id": "2dd828ce",
   "metadata": {},
   "outputs": [
    {
     "data": {
      "application/vnd.microsoft.datawrangler.viewer.v0+json": {
       "columns": [
        {
         "name": "index",
         "rawType": "int64",
         "type": "integer"
        },
        {
         "name": "date",
         "rawType": "datetime64[ns]",
         "type": "datetime"
        },
        {
         "name": "city",
         "rawType": "object",
         "type": "string"
        },
        {
         "name": "province",
         "rawType": "object",
         "type": "string"
        },
        {
         "name": "PM25",
         "rawType": "int64",
         "type": "integer"
        },
        {
         "name": "PM10",
         "rawType": "int64",
         "type": "integer"
        },
        {
         "name": "NO2",
         "rawType": "int64",
         "type": "integer"
        },
        {
         "name": "SO2",
         "rawType": "int64",
         "type": "integer"
        }
       ],
       "ref": "49bbbe58-e913-4153-9267-6c8bdb87be0d",
       "rows": [
        [
         "0",
         "2025-09-01 00:00:00",
         "广州",
         "广东",
         "42",
         "55",
         "19",
         "7"
        ],
        [
         "1",
         "2025-09-02 00:00:00",
         "广州",
         "广东",
         "41",
         "54",
         "18",
         "7"
        ],
        [
         "2",
         "2025-09-03 00:00:00",
         "广州",
         "广东",
         "39",
         "50",
         "17",
         "6"
        ],
        [
         "3",
         "2025-09-04 00:00:00",
         "广州",
         "广东",
         "45",
         "57",
         "20",
         "7"
        ],
        [
         "4",
         "2025-09-05 00:00:00",
         "广州",
         "广东",
         "44",
         "56",
         "19",
         "7"
        ]
       ],
       "shape": {
        "columns": 7,
        "rows": 5
       }
      },
      "text/html": [
       "<div>\n",
       "<style scoped>\n",
       "    .dataframe tbody tr th:only-of-type {\n",
       "        vertical-align: middle;\n",
       "    }\n",
       "\n",
       "    .dataframe tbody tr th {\n",
       "        vertical-align: top;\n",
       "    }\n",
       "\n",
       "    .dataframe thead th {\n",
       "        text-align: right;\n",
       "    }\n",
       "</style>\n",
       "<table border=\"1\" class=\"dataframe\">\n",
       "  <thead>\n",
       "    <tr style=\"text-align: right;\">\n",
       "      <th></th>\n",
       "      <th>date</th>\n",
       "      <th>city</th>\n",
       "      <th>province</th>\n",
       "      <th>PM25</th>\n",
       "      <th>PM10</th>\n",
       "      <th>NO2</th>\n",
       "      <th>SO2</th>\n",
       "    </tr>\n",
       "  </thead>\n",
       "  <tbody>\n",
       "    <tr>\n",
       "      <th>0</th>\n",
       "      <td>2025-09-01</td>\n",
       "      <td>广州</td>\n",
       "      <td>广东</td>\n",
       "      <td>42</td>\n",
       "      <td>55</td>\n",
       "      <td>19</td>\n",
       "      <td>7</td>\n",
       "    </tr>\n",
       "    <tr>\n",
       "      <th>1</th>\n",
       "      <td>2025-09-02</td>\n",
       "      <td>广州</td>\n",
       "      <td>广东</td>\n",
       "      <td>41</td>\n",
       "      <td>54</td>\n",
       "      <td>18</td>\n",
       "      <td>7</td>\n",
       "    </tr>\n",
       "    <tr>\n",
       "      <th>2</th>\n",
       "      <td>2025-09-03</td>\n",
       "      <td>广州</td>\n",
       "      <td>广东</td>\n",
       "      <td>39</td>\n",
       "      <td>50</td>\n",
       "      <td>17</td>\n",
       "      <td>6</td>\n",
       "    </tr>\n",
       "    <tr>\n",
       "      <th>3</th>\n",
       "      <td>2025-09-04</td>\n",
       "      <td>广州</td>\n",
       "      <td>广东</td>\n",
       "      <td>45</td>\n",
       "      <td>57</td>\n",
       "      <td>20</td>\n",
       "      <td>7</td>\n",
       "    </tr>\n",
       "    <tr>\n",
       "      <th>4</th>\n",
       "      <td>2025-09-05</td>\n",
       "      <td>广州</td>\n",
       "      <td>广东</td>\n",
       "      <td>44</td>\n",
       "      <td>56</td>\n",
       "      <td>19</td>\n",
       "      <td>7</td>\n",
       "    </tr>\n",
       "  </tbody>\n",
       "</table>\n",
       "</div>"
      ],
      "text/plain": [
       "        date city province  PM25  PM10  NO2  SO2\n",
       "0 2025-09-01   广州       广东    42    55   19    7\n",
       "1 2025-09-02   广州       广东    41    54   18    7\n",
       "2 2025-09-03   广州       广东    39    50   17    6\n",
       "3 2025-09-04   广州       广东    45    57   20    7\n",
       "4 2025-09-05   广州       广东    44    56   19    7"
      ]
     },
     "execution_count": 1,
     "metadata": {},
     "output_type": "execute_result"
    }
   ],
   "source": [
    "import pandas as pd\n",
    "import numpy as np\n",
    "from sklearn.model_selection import train_test_split\n",
    "from sklearn.linear_model import LinearRegression, LogisticRegression\n",
    "from sklearn.metrics import r2_score, mean_absolute_error, accuracy_score, classification_report\n",
    "\n",
    "df = pd.read_csv('../data/air_quality_timeseries.csv', parse_dates=['date'])\n",
    "df.head()"
   ]
  },
  {
   "cell_type": "code",
   "execution_count": 2,
   "id": "06c5c474",
   "metadata": {},
   "outputs": [
    {
     "data": {
      "application/vnd.microsoft.datawrangler.viewer.v0+json": {
       "columns": [
        {
         "name": "index",
         "rawType": "int64",
         "type": "integer"
        },
        {
         "name": "date",
         "rawType": "datetime64[ns]",
         "type": "datetime"
        },
        {
         "name": "city",
         "rawType": "object",
         "type": "string"
        },
        {
         "name": "province",
         "rawType": "object",
         "type": "string"
        },
        {
         "name": "PM25",
         "rawType": "int64",
         "type": "integer"
        },
        {
         "name": "PM10",
         "rawType": "int64",
         "type": "integer"
        },
        {
         "name": "NO2",
         "rawType": "int64",
         "type": "integer"
        },
        {
         "name": "SO2",
         "rawType": "int64",
         "type": "integer"
        },
        {
         "name": "PM25_lag1",
         "rawType": "float64",
         "type": "float"
        },
        {
         "name": "high_flag",
         "rawType": "int64",
         "type": "integer"
        }
       ],
       "ref": "b95b99dc-d3eb-4034-8d72-5ba4496ac99e",
       "rows": [
        [
         "10",
         "2025-09-01 00:00:00",
         "上海",
         "上海",
         "45",
         "62",
         "28",
         "10",
         null,
         "0"
        ],
        [
         "11",
         "2025-09-02 00:00:00",
         "上海",
         "上海",
         "47",
         "63",
         "29",
         "10",
         "45.0",
         "0"
        ],
        [
         "12",
         "2025-09-03 00:00:00",
         "上海",
         "上海",
         "43",
         "60",
         "27",
         "9",
         "47.0",
         "0"
        ],
        [
         "13",
         "2025-09-04 00:00:00",
         "上海",
         "上海",
         "46",
         "61",
         "28",
         "10",
         "43.0",
         "0"
        ],
        [
         "14",
         "2025-09-05 00:00:00",
         "上海",
         "上海",
         "44",
         "59",
         "27",
         "9",
         "46.0",
         "0"
        ],
        [
         "5",
         "2025-09-01 00:00:00",
         "北京",
         "北京",
         "60",
         "80",
         "35",
         "12",
         null,
         "1"
        ],
        [
         "6",
         "2025-09-02 00:00:00",
         "北京",
         "北京",
         "65",
         "85",
         "37",
         "13",
         "60.0",
         "1"
        ],
        [
         "7",
         "2025-09-03 00:00:00",
         "北京",
         "北京",
         "58",
         "78",
         "34",
         "11",
         "65.0",
         "1"
        ]
       ],
       "shape": {
        "columns": 9,
        "rows": 8
       }
      },
      "text/html": [
       "<div>\n",
       "<style scoped>\n",
       "    .dataframe tbody tr th:only-of-type {\n",
       "        vertical-align: middle;\n",
       "    }\n",
       "\n",
       "    .dataframe tbody tr th {\n",
       "        vertical-align: top;\n",
       "    }\n",
       "\n",
       "    .dataframe thead th {\n",
       "        text-align: right;\n",
       "    }\n",
       "</style>\n",
       "<table border=\"1\" class=\"dataframe\">\n",
       "  <thead>\n",
       "    <tr style=\"text-align: right;\">\n",
       "      <th></th>\n",
       "      <th>date</th>\n",
       "      <th>city</th>\n",
       "      <th>province</th>\n",
       "      <th>PM25</th>\n",
       "      <th>PM10</th>\n",
       "      <th>NO2</th>\n",
       "      <th>SO2</th>\n",
       "      <th>PM25_lag1</th>\n",
       "      <th>high_flag</th>\n",
       "    </tr>\n",
       "  </thead>\n",
       "  <tbody>\n",
       "    <tr>\n",
       "      <th>10</th>\n",
       "      <td>2025-09-01</td>\n",
       "      <td>上海</td>\n",
       "      <td>上海</td>\n",
       "      <td>45</td>\n",
       "      <td>62</td>\n",
       "      <td>28</td>\n",
       "      <td>10</td>\n",
       "      <td>NaN</td>\n",
       "      <td>0</td>\n",
       "    </tr>\n",
       "    <tr>\n",
       "      <th>11</th>\n",
       "      <td>2025-09-02</td>\n",
       "      <td>上海</td>\n",
       "      <td>上海</td>\n",
       "      <td>47</td>\n",
       "      <td>63</td>\n",
       "      <td>29</td>\n",
       "      <td>10</td>\n",
       "      <td>45.0</td>\n",
       "      <td>0</td>\n",
       "    </tr>\n",
       "    <tr>\n",
       "      <th>12</th>\n",
       "      <td>2025-09-03</td>\n",
       "      <td>上海</td>\n",
       "      <td>上海</td>\n",
       "      <td>43</td>\n",
       "      <td>60</td>\n",
       "      <td>27</td>\n",
       "      <td>9</td>\n",
       "      <td>47.0</td>\n",
       "      <td>0</td>\n",
       "    </tr>\n",
       "    <tr>\n",
       "      <th>13</th>\n",
       "      <td>2025-09-04</td>\n",
       "      <td>上海</td>\n",
       "      <td>上海</td>\n",
       "      <td>46</td>\n",
       "      <td>61</td>\n",
       "      <td>28</td>\n",
       "      <td>10</td>\n",
       "      <td>43.0</td>\n",
       "      <td>0</td>\n",
       "    </tr>\n",
       "    <tr>\n",
       "      <th>14</th>\n",
       "      <td>2025-09-05</td>\n",
       "      <td>上海</td>\n",
       "      <td>上海</td>\n",
       "      <td>44</td>\n",
       "      <td>59</td>\n",
       "      <td>27</td>\n",
       "      <td>9</td>\n",
       "      <td>46.0</td>\n",
       "      <td>0</td>\n",
       "    </tr>\n",
       "    <tr>\n",
       "      <th>5</th>\n",
       "      <td>2025-09-01</td>\n",
       "      <td>北京</td>\n",
       "      <td>北京</td>\n",
       "      <td>60</td>\n",
       "      <td>80</td>\n",
       "      <td>35</td>\n",
       "      <td>12</td>\n",
       "      <td>NaN</td>\n",
       "      <td>1</td>\n",
       "    </tr>\n",
       "    <tr>\n",
       "      <th>6</th>\n",
       "      <td>2025-09-02</td>\n",
       "      <td>北京</td>\n",
       "      <td>北京</td>\n",
       "      <td>65</td>\n",
       "      <td>85</td>\n",
       "      <td>37</td>\n",
       "      <td>13</td>\n",
       "      <td>60.0</td>\n",
       "      <td>1</td>\n",
       "    </tr>\n",
       "    <tr>\n",
       "      <th>7</th>\n",
       "      <td>2025-09-03</td>\n",
       "      <td>北京</td>\n",
       "      <td>北京</td>\n",
       "      <td>58</td>\n",
       "      <td>78</td>\n",
       "      <td>34</td>\n",
       "      <td>11</td>\n",
       "      <td>65.0</td>\n",
       "      <td>1</td>\n",
       "    </tr>\n",
       "  </tbody>\n",
       "</table>\n",
       "</div>"
      ],
      "text/plain": [
       "         date city province  PM25  PM10  NO2  SO2  PM25_lag1  high_flag\n",
       "10 2025-09-01   上海       上海    45    62   28   10        NaN          0\n",
       "11 2025-09-02   上海       上海    47    63   29   10       45.0          0\n",
       "12 2025-09-03   上海       上海    43    60   27    9       47.0          0\n",
       "13 2025-09-04   上海       上海    46    61   28   10       43.0          0\n",
       "14 2025-09-05   上海       上海    44    59   27    9       46.0          0\n",
       "5  2025-09-01   北京       北京    60    80   35   12        NaN          1\n",
       "6  2025-09-02   北京       北京    65    85   37   13       60.0          1\n",
       "7  2025-09-03   北京       北京    58    78   34   11       65.0          1"
      ]
     },
     "execution_count": 2,
     "metadata": {},
     "output_type": "execute_result"
    }
   ],
   "source": [
    "# 按城市 + 日期排序，并创建 lag1 特征\n",
    "df = df.sort_values(['city','date']).copy()\n",
    "df['PM25_lag1'] = df.groupby('city')['PM25'].shift(1)\n",
    "# 分类标签\n",
    "df['high_flag'] = (df['PM25'] > 55).astype(int)\n",
    "df.head(8)"
   ]
  },
  {
   "cell_type": "code",
   "execution_count": 3,
   "id": "458d6879",
   "metadata": {},
   "outputs": [
    {
     "name": "stdout",
     "output_type": "stream",
     "text": [
      "原始行数: 30  可用行数: 24\n"
     ]
    },
    {
     "data": {
      "application/vnd.microsoft.datawrangler.viewer.v0+json": {
       "columns": [
        {
         "name": "index",
         "rawType": "int64",
         "type": "integer"
        },
        {
         "name": "date",
         "rawType": "datetime64[ns]",
         "type": "datetime"
        },
        {
         "name": "city",
         "rawType": "object",
         "type": "string"
        },
        {
         "name": "province",
         "rawType": "object",
         "type": "string"
        },
        {
         "name": "PM25",
         "rawType": "int64",
         "type": "integer"
        },
        {
         "name": "PM10",
         "rawType": "int64",
         "type": "integer"
        },
        {
         "name": "NO2",
         "rawType": "int64",
         "type": "integer"
        },
        {
         "name": "SO2",
         "rawType": "int64",
         "type": "integer"
        },
        {
         "name": "PM25_lag1",
         "rawType": "float64",
         "type": "float"
        },
        {
         "name": "high_flag",
         "rawType": "int64",
         "type": "integer"
        }
       ],
       "ref": "a77f9583-7d9e-40f9-9132-acd696950b13",
       "rows": [
        [
         "11",
         "2025-09-02 00:00:00",
         "上海",
         "上海",
         "47",
         "63",
         "29",
         "10",
         "45.0",
         "0"
        ],
        [
         "12",
         "2025-09-03 00:00:00",
         "上海",
         "上海",
         "43",
         "60",
         "27",
         "9",
         "47.0",
         "0"
        ],
        [
         "13",
         "2025-09-04 00:00:00",
         "上海",
         "上海",
         "46",
         "61",
         "28",
         "10",
         "43.0",
         "0"
        ],
        [
         "14",
         "2025-09-05 00:00:00",
         "上海",
         "上海",
         "44",
         "59",
         "27",
         "9",
         "46.0",
         "0"
        ],
        [
         "6",
         "2025-09-02 00:00:00",
         "北京",
         "北京",
         "65",
         "85",
         "37",
         "13",
         "60.0",
         "1"
        ]
       ],
       "shape": {
        "columns": 9,
        "rows": 5
       }
      },
      "text/html": [
       "<div>\n",
       "<style scoped>\n",
       "    .dataframe tbody tr th:only-of-type {\n",
       "        vertical-align: middle;\n",
       "    }\n",
       "\n",
       "    .dataframe tbody tr th {\n",
       "        vertical-align: top;\n",
       "    }\n",
       "\n",
       "    .dataframe thead th {\n",
       "        text-align: right;\n",
       "    }\n",
       "</style>\n",
       "<table border=\"1\" class=\"dataframe\">\n",
       "  <thead>\n",
       "    <tr style=\"text-align: right;\">\n",
       "      <th></th>\n",
       "      <th>date</th>\n",
       "      <th>city</th>\n",
       "      <th>province</th>\n",
       "      <th>PM25</th>\n",
       "      <th>PM10</th>\n",
       "      <th>NO2</th>\n",
       "      <th>SO2</th>\n",
       "      <th>PM25_lag1</th>\n",
       "      <th>high_flag</th>\n",
       "    </tr>\n",
       "  </thead>\n",
       "  <tbody>\n",
       "    <tr>\n",
       "      <th>11</th>\n",
       "      <td>2025-09-02</td>\n",
       "      <td>上海</td>\n",
       "      <td>上海</td>\n",
       "      <td>47</td>\n",
       "      <td>63</td>\n",
       "      <td>29</td>\n",
       "      <td>10</td>\n",
       "      <td>45.0</td>\n",
       "      <td>0</td>\n",
       "    </tr>\n",
       "    <tr>\n",
       "      <th>12</th>\n",
       "      <td>2025-09-03</td>\n",
       "      <td>上海</td>\n",
       "      <td>上海</td>\n",
       "      <td>43</td>\n",
       "      <td>60</td>\n",
       "      <td>27</td>\n",
       "      <td>9</td>\n",
       "      <td>47.0</td>\n",
       "      <td>0</td>\n",
       "    </tr>\n",
       "    <tr>\n",
       "      <th>13</th>\n",
       "      <td>2025-09-04</td>\n",
       "      <td>上海</td>\n",
       "      <td>上海</td>\n",
       "      <td>46</td>\n",
       "      <td>61</td>\n",
       "      <td>28</td>\n",
       "      <td>10</td>\n",
       "      <td>43.0</td>\n",
       "      <td>0</td>\n",
       "    </tr>\n",
       "    <tr>\n",
       "      <th>14</th>\n",
       "      <td>2025-09-05</td>\n",
       "      <td>上海</td>\n",
       "      <td>上海</td>\n",
       "      <td>44</td>\n",
       "      <td>59</td>\n",
       "      <td>27</td>\n",
       "      <td>9</td>\n",
       "      <td>46.0</td>\n",
       "      <td>0</td>\n",
       "    </tr>\n",
       "    <tr>\n",
       "      <th>6</th>\n",
       "      <td>2025-09-02</td>\n",
       "      <td>北京</td>\n",
       "      <td>北京</td>\n",
       "      <td>65</td>\n",
       "      <td>85</td>\n",
       "      <td>37</td>\n",
       "      <td>13</td>\n",
       "      <td>60.0</td>\n",
       "      <td>1</td>\n",
       "    </tr>\n",
       "  </tbody>\n",
       "</table>\n",
       "</div>"
      ],
      "text/plain": [
       "         date city province  PM25  PM10  NO2  SO2  PM25_lag1  high_flag\n",
       "11 2025-09-02   上海       上海    47    63   29   10       45.0          0\n",
       "12 2025-09-03   上海       上海    43    60   27    9       47.0          0\n",
       "13 2025-09-04   上海       上海    46    61   28   10       43.0          0\n",
       "14 2025-09-05   上海       上海    44    59   27    9       46.0          0\n",
       "6  2025-09-02   北京       北京    65    85   37   13       60.0          1"
      ]
     },
     "execution_count": 3,
     "metadata": {},
     "output_type": "execute_result"
    }
   ],
   "source": [
    "# 丢弃 lag 缺失行\n",
    "model_df = df.dropna(subset=['PM25_lag1']).copy()\n",
    "print('原始行数:', df.shape[0], ' 可用行数:', model_df.shape[0])\n",
    "model_df.head()"
   ]
  },
  {
   "cell_type": "markdown",
   "id": "8bb68cc3",
   "metadata": {},
   "source": [
    "### 小练习 1\n",
    "1. 思考还有哪些简单可加特征？(例如 PM 差值：PM10-PM25)\n",
    "2. 尝试新增列 PM_diff = PM10 - PM25 并查看是否与 PM25 有相关。"
   ]
  },
  {
   "cell_type": "markdown",
   "id": "454edb4f",
   "metadata": {},
   "source": [
    "## 3. 回归：线性回归预测 PM2.5\n",
    "目标：预测 `PM25`。特征：PM10, NO2, SO2, PM25_lag1。\n",
    "评估：R²（越接近 1 越好）+ MAE（越小越好）。\n",
    "基线思路：如果总是预测训练集均值，MAE 大概多少？(可作为对照)。"
   ]
  },
  {
   "cell_type": "code",
   "execution_count": 4,
   "id": "01c75d3b",
   "metadata": {},
   "outputs": [
    {
     "name": "stdout",
     "output_type": "stream",
     "text": [
      "R^2: 0.982\n",
      "MAE: 0.58\n",
      "基线 MAE (预测均值): 11.62\n"
     ]
    }
   ],
   "source": [
    "features = ['PM10','NO2','SO2','PM25_lag1']\n",
    "X = model_df[features]\n",
    "y = model_df['PM25']\n",
    "\n",
    "X_train, X_test, y_train, y_test = train_test_split(X, y, test_size=0.3, random_state=42)\n",
    "reg = LinearRegression()\n",
    "reg.fit(X_train, y_train)\n",
    "y_pred = reg.predict(X_test)\n",
    "r2 = r2_score(y_test, y_pred)\n",
    "mae = mean_absolute_error(y_test, y_pred)\n",
    "print('R^2:', round(r2,3))\n",
    "print('MAE:', round(mae,2))\n",
    "# 基线：用训练集均值预测\n",
    "baseline = np.full_like(y_test, fill_value=y_train.mean())\n",
    "mae_baseline = mean_absolute_error(y_test, baseline)\n",
    "print('基线 MAE (预测均值):', round(mae_baseline,2))"
   ]
  },
  {
   "cell_type": "markdown",
   "id": "35aef664",
   "metadata": {},
   "source": [
    "### 解释：\n",
    "- 如果模型 MAE 比基线显著降低 → 说明利用特征有效。\n",
    "- R² 负值说明模型比“直接用均值”还差。"
   ]
  },
  {
   "cell_type": "markdown",
   "id": "3a5e5f41",
   "metadata": {},
   "source": [
    "## 4. 分类：高污染日判别 (Logistic Regression)\n",
    "标签：high_flag = 1 (PM25>55)。特征可与回归相同。\n",
    "评估：Accuracy。说明：数据量少 → 结果仅演示。"
   ]
  },
  {
   "cell_type": "code",
   "execution_count": 5,
   "id": "cfda94d8",
   "metadata": {},
   "outputs": [
    {
     "name": "stdout",
     "output_type": "stream",
     "text": [
      "Accuracy: 1.0\n",
      "分类报告:\n",
      "              precision    recall  f1-score   support\n",
      "\n",
      "           0      1.000     1.000     1.000         5\n",
      "           1      1.000     1.000     1.000         3\n",
      "\n",
      "    accuracy                          1.000         8\n",
      "   macro avg      1.000     1.000     1.000         8\n",
      "weighted avg      1.000     1.000     1.000         8\n",
      "\n"
     ]
    }
   ],
   "source": [
    "X_class = model_df[features]\n",
    "y_class = model_df['high_flag']\n",
    "Xc_train, Xc_test, yc_train, yc_test = train_test_split(X_class, y_class, test_size=0.3, random_state=42, stratify=y_class)\n",
    "clf = LogisticRegression(max_iter=500)\n",
    "clf.fit(Xc_train, yc_train)\n",
    "yc_pred = clf.predict(Xc_test)\n",
    "acc = accuracy_score(yc_test, yc_pred)\n",
    "print('Accuracy:', round(acc,3))\n",
    "print('分类报告:')\n",
    "print(classification_report(yc_test, yc_pred, digits=3))"
   ]
  },
  {
   "cell_type": "markdown",
   "id": "484cfd60",
   "metadata": {},
   "source": [
    "注意：若标签极不平衡，Accuracy 可能失真。以后需看 Precision / Recall / F1。课程限于入门，仅展示概念。"
   ]
  },
  {
   "cell_type": "markdown",
   "id": "fc3eb4c5",
   "metadata": {},
   "source": [
    "### 小练习 2\n",
    "1. 改变划分 random_state 看结果是否稳定。\n",
    "2. 若全部预测 0，Accuracy 约是多少？(计算标签占比)"
   ]
  },
  {
   "cell_type": "markdown",
   "id": "d53996a7",
   "metadata": {},
   "source": [
    "## 5. 模型系数 (线性回归 & Logistic)\n",
    "系数方向：正 → 特征增大，预测值增大；负 → 反向。大小受量纲影响→ 正规做法需标准化 (本课略)。"
   ]
  },
  {
   "cell_type": "code",
   "execution_count": 6,
   "id": "46e96be5",
   "metadata": {},
   "outputs": [
    {
     "data": {
      "application/vnd.microsoft.datawrangler.viewer.v0+json": {
       "columns": [
        {
         "name": "index",
         "rawType": "int64",
         "type": "integer"
        },
        {
         "name": "feature",
         "rawType": "object",
         "type": "string"
        },
        {
         "name": "linear_coef",
         "rawType": "float64",
         "type": "float"
        },
        {
         "name": "logistic_coef",
         "rawType": "float64",
         "type": "float"
        }
       ],
       "ref": "3d2da3cd-c9b0-4483-94cf-9eab60386c29",
       "rows": [
        [
         "0",
         "PM10",
         "1.0069907098485456",
         "1.052641167850804"
        ],
        [
         "1",
         "NO2",
         "-0.48659618324066284",
         "-0.09585329403134264"
        ],
        [
         "2",
         "SO2",
         "0.3045475905656496",
         "-0.1942904937853275"
        ],
        [
         "3",
         "PM25_lag1",
         "-0.08332593127968851",
         "-0.18025561148993968"
        ]
       ],
       "shape": {
        "columns": 3,
        "rows": 4
       }
      },
      "text/html": [
       "<div>\n",
       "<style scoped>\n",
       "    .dataframe tbody tr th:only-of-type {\n",
       "        vertical-align: middle;\n",
       "    }\n",
       "\n",
       "    .dataframe tbody tr th {\n",
       "        vertical-align: top;\n",
       "    }\n",
       "\n",
       "    .dataframe thead th {\n",
       "        text-align: right;\n",
       "    }\n",
       "</style>\n",
       "<table border=\"1\" class=\"dataframe\">\n",
       "  <thead>\n",
       "    <tr style=\"text-align: right;\">\n",
       "      <th></th>\n",
       "      <th>feature</th>\n",
       "      <th>linear_coef</th>\n",
       "      <th>logistic_coef</th>\n",
       "    </tr>\n",
       "  </thead>\n",
       "  <tbody>\n",
       "    <tr>\n",
       "      <th>0</th>\n",
       "      <td>PM10</td>\n",
       "      <td>1.006991</td>\n",
       "      <td>1.052641</td>\n",
       "    </tr>\n",
       "    <tr>\n",
       "      <th>1</th>\n",
       "      <td>NO2</td>\n",
       "      <td>-0.486596</td>\n",
       "      <td>-0.095853</td>\n",
       "    </tr>\n",
       "    <tr>\n",
       "      <th>2</th>\n",
       "      <td>SO2</td>\n",
       "      <td>0.304548</td>\n",
       "      <td>-0.194290</td>\n",
       "    </tr>\n",
       "    <tr>\n",
       "      <th>3</th>\n",
       "      <td>PM25_lag1</td>\n",
       "      <td>-0.083326</td>\n",
       "      <td>-0.180256</td>\n",
       "    </tr>\n",
       "  </tbody>\n",
       "</table>\n",
       "</div>"
      ],
      "text/plain": [
       "     feature  linear_coef  logistic_coef\n",
       "0       PM10     1.006991       1.052641\n",
       "1        NO2    -0.486596      -0.095853\n",
       "2        SO2     0.304548      -0.194290\n",
       "3  PM25_lag1    -0.083326      -0.180256"
      ]
     },
     "execution_count": 6,
     "metadata": {},
     "output_type": "execute_result"
    }
   ],
   "source": [
    "coef_table = pd.DataFrame({\n",
    "    'feature': features,\n",
    "    'linear_coef': reg.coef_,\n",
    "    'logistic_coef': clf.coef_[0]\n",
    "})\n",
    "coef_table"
   ]
  },
  {
   "cell_type": "markdown",
   "id": "e8763ca9",
   "metadata": {},
   "source": [
    "### 解释提示：\n",
    "- 仅在所有其他特征固定时的线性近似影响。\n",
    "- 不代表因果关系。\n",
    "- 多特征相关时系数不稳定。"
   ]
  },
  {
   "cell_type": "markdown",
   "id": "fdb6184d",
   "metadata": {},
   "source": [
    "## 6. 过拟合直观认识\n",
    "过拟合：模型在训练集表现很好，在测试集差。今天用的线性模型偏简单，不易严重过拟合。\n",
    "概念记住即可：需要平衡“拟合能力”与“泛化能力”。"
   ]
  },
  {
   "cell_type": "markdown",
   "id": "1955094a",
   "metadata": {},
   "source": [
    "### 小练习 3\n",
    "1. 尝试只用 PM25_lag1 作为唯一特征再训练回归，比较 MAE。\n",
    "2. 思考：简单模型结果与多特征相比差多少？是否值得引入更多复杂特征？"
   ]
  },
  {
   "cell_type": "markdown",
   "id": "5bd4847a",
   "metadata": {},
   "source": [
    "## 7. 快速可视化：真实 vs 预测 (回归)\n",
    "仅用于直观感受。"
   ]
  },
  {
   "cell_type": "code",
   "execution_count": 10,
   "id": "f4811036",
   "metadata": {},
   "outputs": [
    {
     "data": {
      "image/png": "[encoded data removed]",
      "text/plain": [
       "<Figure size 500x400 with 1 Axes>"
      ]
     },
     "metadata": {},
     "output_type": "display_data"
    }
   ],
   "source": [
    "import matplotlib.pyplot as plt\n",
    "# 修复中文显示与负号问题\n",
    "plt.rcParams['font.sans-serif'] = ['AR PL UMing CN']  # 若无 SimHei，可改为 ['Arial Unicode MS'] 或系统中文字体\n",
    "plt.rcParams['axes.unicode_minus'] = False\n",
    "plt.figure(figsize=(5,4))\n",
    "plt.scatter(y_test, y_pred, alpha=0.7)\n",
    "plt.xlabel('真实 PM25')\n",
    "plt.ylabel('预测 PM25')\n",
    "plt.title('真实 vs 预测 (回归)')\n",
    "# 参考 y=x 线\n",
    "lims = [min(y_test.min(), y_pred.min())-1, max(y_test.max(), y_pred.max())+1]\n",
    "plt.plot(lims, lims, 'r--', alpha=0.6)\n",
    "plt.tight_layout()\n",
    "plt.show()"
   ]
  },
  {
   "cell_type": "markdown",
   "id": "cb5b1fb4",
   "metadata": {},
   "source": [
    "### 小练习 4\n",
    "1. 计算预测残差 (y_test - y_pred) 的平均值与标准差。\n",
    "2. 观察是否存在系统性偏差 (平均值显著非 0)。"
   ]
  },
  {
   "cell_type": "markdown",
   "id": "8b00159e",
   "metadata": {},
   "source": [
    "## 8. 小结\n",
    "流程核心：特征准备 → 划分训练/测试 → 训练 (fit) → 评估 (R²/MAE/Accuracy) → 解释/复盘。 \n",
    "\n",
    "今日要点：\n",
    "1. 构造时间相关特征：lag (按分组 shift) 是时序常用基线做法。\n",
    "2. 回归评估双视角：误差 (MAE) + 拟合度 (R²)；与“预测均值”基线比较判断是否有价值。\n",
    "3. 分类起步看 Accuracy，同时意识到类别不平衡隐患。\n",
    "4. 系数只表相关方向与线性近似，不等于因果；特征相关性会影响稳定性。\n",
    "5. 过拟合概念：训练好/测试差；简单线性模型示例中尚不突出，但需保有警觉。 \n",
    "\n",
    "实践提示：\n",
    "- 先做“无模型”基线（均值 / 频率），再上模型验证增益。\n",
    "- 固定 random_state 保障可复现；保留特征列表以便快速做 ablation（删减对比）。\n",
    "\n",
    "展望：Day 8 综合项目中，若加入模型务必注明：数据范围、特征来源、阈值假设与局限。"
   ]
  },
  {
   "cell_type": "code",
   "execution_count": 8,
   "id": "5b5e4f85",
   "metadata": {},
   "outputs": [
    {
     "name": "stdout",
     "output_type": "stream",
     "text": [
      "MAE: 0.58  R2: 0.982\n",
      "中位数基线 MAE: 13.12\n",
      "残差均值≈0? -0.506   标准差: 0.81\n",
      "CV MAE 平均: 0.95\n"
     ]
    }
   ],
   "source": [
    "# 模型进阶代码示例 (基线 + 残差 + 交叉验证)\n",
    "import pandas as pd, numpy as np\n",
    "from sklearn.model_selection import train_test_split, cross_val_score\n",
    "from sklearn.linear_model import LinearRegression\n",
    "from sklearn.metrics import mean_absolute_error, r2_score\n",
    "df = pd.read_csv('../data/air_quality_timeseries.csv', parse_dates=['date']).sort_values(['city','date'])\n",
    "df['PM25_lag1'] = df.groupby('city')['PM25'].shift(1)\n",
    "model_df = df.dropna(subset=['PM25_lag1']).copy()\n",
    "X = model_df[['PM10','NO2','SO2','PM25_lag1']]\n",
    "y = model_df['PM25']\n",
    "X_train,X_test,y_train,y_test = train_test_split(X,y,test_size=0.3,random_state=42)\n",
    "reg = LinearRegression().fit(X_train,y_train)\n",
    "pred = reg.predict(X_test)\n",
    "mae = mean_absolute_error(y_test,pred); r2 = r2_score(y_test,pred)\n",
    "print('MAE:', round(mae,2),' R2:', round(r2,3))\n",
    "\n",
    "# 1. 中位数基线\n",
    "baseline_med = np.full_like(y_test, fill_value=np.median(y_train))\n",
    "print('中位数基线 MAE:', round(mean_absolute_error(y_test, baseline_med),2))\n",
    "\n",
    "# 2. 残差分析\n",
    "residuals = y_test - pred\n",
    "print('残差均值≈0?', round(residuals.mean(),3),'  标准差:', round(residuals.std(),2))\n",
    "\n",
    "# 3. 简单交叉验证 (仅演示, 用全数据)\n",
    "scores = cross_val_score(LinearRegression(), X, y, scoring='neg_mean_absolute_error', cv=3)\n",
    "print('CV MAE 平均:', round(-scores.mean(),2))"
   ]
  },
  {
   "cell_type": "markdown",
   "id": "116ca6a3",
   "metadata": {},
   "source": [
    "### 模型进阶与良好实践（入门视角）\n",
    "1. 随机种子：保证实验可复现 (random_state)。\n",
    "2. 基线多样化：回归可用中位数预测；分类可用多数类预测。\n",
    "3. 特征重要性：线性模型系数需标准化后再对比；树模型 (后续) 可看 feature_importances_。\n",
    "4. 数据泄漏警惕：不能用未来信息（如同日平均后再预测）。\n",
    "5. 评估切分：后续可用交叉验证 cross_val_score。\n",
    "6. 管道思想：Pipeline 封装预处理 + 模型，防止数据泄漏。\n",
    "7. 残差分析：残差 vs 预测值分布是否随机；系统模式提示欠拟合/非线性。\n",
    "8. 过拟合症状：训练指标显著好于测试；加入正则化可改善。\n",
    "9. 指标多角度：回归( MAE / RMSE / R² )；分类(Accuracy + Precision/Recall/F1)。\n",
    "10. 记录实验：表格化 (特征集/参数/指标) 便于比较。"
   ]
  },
  {
   "cell_type": "markdown",
   "id": "3d019e09",
   "metadata": {},
   "source": [
    "## 9. 课后作业提示\n",
    "提交 *homework_day7.ipynb*：\n",
    "1. 自行再增加 1 个特征 (如 PM10 - PM25)，重新训练回归并记录 MAE 与 R² 变化。\n",
    "2. 再做一次分类：修改阈值为 60，对比 Accuracy 有何变化。\n",
    "3. 将回归训练封装成函数 train_simple_reg(df, feature_list) 返回 (r2, mae)。调用两次比较。\n",
    "4. 写 120 字：说明你今天模型的局限（数据量、特征、评估方式、潜在偏差）。\n",
    "(可选) 5. 把线性回归预测结果按误差绝对值排序，列出误差最大的 3 条记录并猜测原因。"
   ]
  },
  {
   "cell_type": "markdown",
   "id": "c139dfe4",
   "metadata": {},
   "source": [
    "---\n",
    "📌 提示：明天 Day 8 综合实践可选择是否加入“简单模型”一节，务必明确说明假设与局限。"
   ]
  }
 ],
 "metadata": {
  "kernelspec": {
   "display_name": "prophet",
   "language": "python",
   "name": "python3"
  },
  "language_info": {
   "codemirror_mode": {
    "name": "ipython",
    "version": 3
   },
   "file_extension": ".py",
   "mimetype": "text/x-python",
   "name": "python",
   "nbconvert_exporter": "python",
   "pygments_lexer": "ipython3",
   "version": "3.13.5"
  }
 },
 "nbformat": 4,
 "nbformat_minor": 5
}
